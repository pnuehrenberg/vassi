{
 "cells": [
  {
   "cell_type": "code",
   "execution_count": null,
   "id": "00343c03-e604-4a4b-a76a-1369a0a14869",
   "metadata": {},
   "outputs": [],
   "source": [
    "from automated_scoring.io import load_dataset\n",
    "\n",
    "dataset_predictions = load_dataset(directory=\"datasets/CALMS21/pred\", target=\"dyads\", dataset_name=\"mice_pred\", observation_type=\"predictions\")"
   ]
  },
  {
   "cell_type": "code",
   "execution_count": null,
   "id": "ad6ea152-f8d1-4b92-ae7f-636e85a5e970",
   "metadata": {},
   "outputs": [],
   "source": [
    "from observation_library import ObservationLibrary\n",
    "from glob import glob\n",
    "import json\n",
    "\n",
    "annotations = dataset_predictions.get_observations(exclude=[(\"intruder\", \"resident\")])\n",
    "\n",
    "video_files = sorted(glob(\"/home/paul/Downloads/task1_videos_mp4/train/*.mp4\"))\n",
    "video_lookup = {idx: [video_file] for idx, video_file in enumerate(video_files)}\n",
    "trajectory_lookup = {\n",
    "    group: dataset_predictions.select(group).trajectories\n",
    "    for group in (\n",
    "        dataset_predictions.groups\n",
    "        if isinstance(dataset_predictions.groups, dict)\n",
    "        else range(len(dataset_predictions.groups))\n",
    "    )\n",
    "}\n",
    "\n",
    "observation_library = ObservationLibrary(\n",
    "    annotations,\n",
    "    video_lookup=video_lookup,\n",
    "    trajectory_lookup=trajectory_lookup,\n",
    "    num_keypoints=7,\n",
    "    filter_dependencies={\n",
    "        \"actor\": (\"group\", ),\n",
    "        \"recipient\": (\"group\", \"actor\"),\n",
    "    },\n",
    "    highlight_observations_mode=\"category\",\n",
    "    selected_observations_mode=\"dyad\",\n",
    ")\n",
    "\n",
    "with open(\"render_settings.json\", \"r\") as f:\n",
    "    render_settings = json.load(f)\n",
    "    for key in render_settings:\n",
    "        setattr(observation_library.render_settings, key, render_settings[key])\n",
    "\n",
    "observation_library"
   ]
  }
 ],
 "metadata": {
  "kernelspec": {
   "display_name": "Python 3 (ipykernel)",
   "language": "python",
   "name": "python3"
  },
  "language_info": {
   "codemirror_mode": {
    "name": "ipython",
    "version": 3
   },
   "file_extension": ".py",
   "mimetype": "text/x-python",
   "name": "python",
   "nbconvert_exporter": "python",
   "pygments_lexer": "ipython3",
   "version": "3.12.8"
  }
 },
 "nbformat": 4,
 "nbformat_minor": 5
}
