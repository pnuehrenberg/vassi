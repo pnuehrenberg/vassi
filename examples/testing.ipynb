{
 "cells": [
  {
   "cell_type": "code",
   "execution_count": 1,
   "id": "8c05f7c5-55ae-47cc-bdc4-3486e2590515",
   "metadata": {},
   "outputs": [],
   "source": [
    "# %pip install .."
   ]
  },
  {
   "cell_type": "code",
   "execution_count": 2,
   "id": "30180d5e-5d7c-456f-a4b2-10aff41daa27",
   "metadata": {},
   "outputs": [],
   "source": [
    "from pyTrajectory.data_structures import InstanceCollection, Trajectory, TimestampedInstanceCollection\n",
    "import numpy as np"
   ]
  },
  {
   "cell_type": "code",
   "execution_count": 3,
   "id": "9248fb46-34ef-4280-8d23-3629c1c90453",
   "metadata": {},
   "outputs": [],
   "source": [
    "cfg = Trajectory().cfg"
   ]
  },
  {
   "cell_type": "code",
   "execution_count": 95,
   "id": "1fe603e1-34b4-4080-a97d-b853e45335dd",
   "metadata": {},
   "outputs": [],
   "source": [
    "cfg.trajectory_keys = (\"position\", \"time\", \"identity\")\n",
    "cfg.key_timestamp = \"time\"\n",
    "cfg.key_identity = \"identity\"\n",
    "\n",
    "data = {\n",
    "    \"position\": np.array([[0, 0], [1, 1], [2, 2], [3, 3]]),\n",
    "    \"time\": np.array([0, 0, 1, 1]),\n",
    "    \"identity\": np.array([\"1\", \"1\", \"2\", \"2\"], dtype=np.dtypes.StringDType),\n",
    "}\n",
    "collection = TimestampedInstanceCollection(data=data, cfg=cfg)"
   ]
  },
  {
   "cell_type": "code",
   "execution_count": 96,
   "id": "ce018c3f-5939-4fdb-89b8-ea30457187fb",
   "metadata": {},
   "outputs": [],
   "source": [
    "subcollection = collection[:2]"
   ]
  },
  {
   "cell_type": "code",
   "execution_count": 97,
   "id": "2356a6d2-0c07-405e-a38f-113d7fb35d41",
   "metadata": {},
   "outputs": [],
   "source": [
    "subcollection[\"identity\"] = \"new_name\""
   ]
  },
  {
   "cell_type": "code",
   "execution_count": 98,
   "id": "fcd9e954-0313-4415-8223-05b9c3318db1",
   "metadata": {},
   "outputs": [
    {
     "data": {
      "text/plain": [
       "array(['new_name', 'new_name', '2', '2'], dtype=StringDType())"
      ]
     },
     "execution_count": 98,
     "metadata": {},
     "output_type": "execute_result"
    }
   ],
   "source": [
    "collection[\"identity\"]"
   ]
  },
  {
   "cell_type": "code",
   "execution_count": 99,
   "id": "6901ef14-70bc-492b-8ccb-51c420baa770",
   "metadata": {},
   "outputs": [],
   "source": [
    "collection[\"identity\"] = np.array([\"hans\", \"hans\",\"peter\", \"peter\"])\n",
    "collection[-1, \"time\"] = 5"
   ]
  },
  {
   "cell_type": "code",
   "execution_count": 100,
   "id": "0a6ab0a5-deed-42a8-ba2a-758afe597710",
   "metadata": {},
   "outputs": [],
   "source": [
    "from pyTrajectory import math"
   ]
  },
  {
   "cell_type": "code",
   "execution_count": 101,
   "id": "423da9ee-5fbf-4f1b-be71-d9f8994d28f4",
   "metadata": {},
   "outputs": [],
   "source": [
    "from pyTrajectory.features import keypoints"
   ]
  },
  {
   "cell_type": "code",
   "execution_count": 105,
   "id": "3060b57e-9e71-4d59-b25c-f3f7ca41f184",
   "metadata": {},
   "outputs": [
    {
     "data": {
      "text/plain": [
       "array([[0, 0],\n",
       "       [1, 1],\n",
       "       [2, 2],\n",
       "       [3, 3]])"
      ]
     },
     "execution_count": 105,
     "metadata": {},
     "output_type": "execute_result"
    }
   ],
   "source": [
    "collection[\"position\"]"
   ]
  },
  {
   "cell_type": "code",
   "execution_count": 112,
   "id": "7d22a233-283b-49c9-b77f-c5fe986dcef4",
   "metadata": {},
   "outputs": [
    {
     "data": {
      "text/plain": [
       "array([[0.        , 1.41421356],\n",
       "       [1.41421356, 0.        ],\n",
       "       [2.82842712, 1.41421356],\n",
       "       [4.24264069, 2.82842712]])"
      ]
     },
     "execution_count": 112,
     "metadata": {},
     "output_type": "execute_result"
    }
   ],
   "source": [
    "perform_operation(\n",
    "    math.euclidean_distance,\n",
    "    collection[\"position\"][:, np.newaxis],\n",
    "    collection[\"position\"][:-2][np.newaxis, ...],\n",
    "    element_wise=False,\n",
    "    flat=False,\n",
    "    expand_dims_for_broadcasting=False,\n",
    ")"
   ]
  },
  {
   "cell_type": "code",
   "execution_count": 93,
   "id": "297f2734-acc9-4385-a24a-2714eef48363",
   "metadata": {},
   "outputs": [
    {
     "data": {
      "text/plain": [
       "(4, 1, 1, 2)"
      ]
     },
     "execution_count": 93,
     "metadata": {},
     "output_type": "execute_result"
    }
   ],
   "source": [
    "collection[\"position\"][:, np.newaxis].shape"
   ]
  },
  {
   "cell_type": "code",
   "execution_count": 10,
   "id": "1f292b95-f87f-4b6e-860f-26940be8e3e3",
   "metadata": {},
   "outputs": [
    {
     "data": {
      "text/plain": [
       "True"
      ]
     },
     "execution_count": 10,
     "metadata": {},
     "output_type": "execute_result"
    }
   ],
   "source": [
    "cfg() == cfg.copy()()"
   ]
  },
  {
   "cell_type": "code",
   "execution_count": 11,
   "id": "7fd39664-72da-412d-a3ff-4e756c386f36",
   "metadata": {},
   "outputs": [],
   "source": [
    "cfg = Trajectory().cfg"
   ]
  },
  {
   "cell_type": "code",
   "execution_count": 12,
   "id": "1e910b1a-9112-4363-b888-d9a9b8384a84",
   "metadata": {},
   "outputs": [
    {
     "data": {
      "text/plain": [
       "(array([[0, 0],\n",
       "        [1, 1],\n",
       "        [2, 2]]),\n",
       " array([0, 1, 2]))"
      ]
     },
     "execution_count": 12,
     "metadata": {},
     "output_type": "execute_result"
    }
   ],
   "source": [
    "cfg.trajectory_keys = (\"position\", \"time\")\n",
    "cfg.key_timestamp = \"time\"\n",
    "\n",
    "data = {\n",
    "    \"position\": np.array([[0, 0], [1, 1], [2, 2]]),\n",
    "    \"time\": np.array([0, 1, 2]),\n",
    "}\n",
    "trajectory = Trajectory(data=data, cfg=cfg)\n",
    "\n",
    "\n",
    "trajectory[\"position\"], trajectory[\"time\"]\n"
   ]
  },
  {
   "cell_type": "code",
   "execution_count": 13,
   "id": "e4324d8d-9938-46fa-b186-d20fd16a3efa",
   "metadata": {},
   "outputs": [
    {
     "data": {
      "text/plain": [
       "('time', 'position')"
      ]
     },
     "execution_count": 13,
     "metadata": {},
     "output_type": "execute_result"
    }
   ],
   "source": [
    "trajectory.keys()"
   ]
  },
  {
   "cell_type": "code",
   "execution_count": 14,
   "id": "0f94f6eb-bee6-4b9f-9c6a-628daea1a305",
   "metadata": {},
   "outputs": [
    {
     "data": {
      "text/plain": [
       "(array([0, 1, 2]),\n",
       " array([[0, 0],\n",
       "        [1, 1],\n",
       "        [2, 2]]))"
      ]
     },
     "execution_count": 14,
     "metadata": {},
     "output_type": "execute_result"
    }
   ],
   "source": [
    "trajectory.values()"
   ]
  },
  {
   "cell_type": "code",
   "execution_count": 15,
   "id": "2694662c-f0f6-48cb-a32f-4d4a682ac882",
   "metadata": {},
   "outputs": [
    {
     "data": {
      "text/plain": [
       "(('time', array([0, 1, 2])),\n",
       " ('position', array([[0, 0],\n",
       "         [1, 1],\n",
       "         [2, 2]])))"
      ]
     },
     "execution_count": 15,
     "metadata": {},
     "output_type": "execute_result"
    }
   ],
   "source": [
    "trajectory.items()"
   ]
  },
  {
   "cell_type": "code",
   "execution_count": 16,
   "id": "f60d89ee-145c-4429-b897-01a04b0bc5f4",
   "metadata": {},
   "outputs": [
    {
     "data": {
      "text/plain": [
       "(3, 3)"
      ]
     },
     "execution_count": 16,
     "metadata": {},
     "output_type": "execute_result"
    }
   ],
   "source": [
    "trajectory.length, len(trajectory)"
   ]
  },
  {
   "cell_type": "code",
   "execution_count": 17,
   "id": "d347007f-1263-4d7b-976e-af09d9414520",
   "metadata": {},
   "outputs": [],
   "source": [
    "data = {\"location\": np.array([[0, 0], [1, 1], [2, 2]]), \"time\": np.array([1, 2, 3])}\n",
    "# trajectory.validate_data(data)"
   ]
  },
  {
   "cell_type": "code",
   "execution_count": 18,
   "id": "0b35f995-cc36-4629-8273-c553a6a16f6e",
   "metadata": {},
   "outputs": [],
   "source": [
    "data = {\"position\": np.array([[0, 0], [1, 1]]), \"time\": np.array([1, 2, 3])}\n",
    "# trajectory.validate_data(data)"
   ]
  },
  {
   "cell_type": "code",
   "execution_count": 19,
   "id": "b856af7a-3b15-4b68-8e36-90a590e62809",
   "metadata": {},
   "outputs": [
    {
     "data": {
      "text/plain": [
       "{'time': array([0, 1, 2]),\n",
       " 'position': array([[0, 0],\n",
       "        [1, 1],\n",
       "        [2, 2]])}"
      ]
     },
     "execution_count": 19,
     "metadata": {},
     "output_type": "execute_result"
    }
   ],
   "source": [
    "trajectory.data"
   ]
  },
  {
   "cell_type": "code",
   "execution_count": 20,
   "id": "ce3977c3-42a6-4211-940e-bf4360ce0092",
   "metadata": {},
   "outputs": [],
   "source": [
    "data = {\n",
    "    \"position\": np.array([[1, 1], [2, 2], [4, 4]]),\n",
    "    \"time\": np.array([1, 2, 4]),\n",
    "}\n",
    "trajectory = Trajectory(data=data)"
   ]
  },
  {
   "cell_type": "code",
   "execution_count": 21,
   "id": "3e103c27-2c4d-4477-b53d-f240f4bc3cba",
   "metadata": {},
   "outputs": [],
   "source": [
    "# trajectory[\"position\"] += 1"
   ]
  },
  {
   "cell_type": "code",
   "execution_count": 22,
   "id": "8c168476-a137-4b46-befd-4e803f7f8d16",
   "metadata": {},
   "outputs": [
    {
     "data": {
      "text/plain": [
       "(array([[1, 1],\n",
       "        [2, 2],\n",
       "        [4, 4]]),\n",
       " array([1, 2, 4]))"
      ]
     },
     "execution_count": 22,
     "metadata": {},
     "output_type": "execute_result"
    }
   ],
   "source": [
    "trajectory[(\"position\", \"time\")]"
   ]
  },
  {
   "cell_type": "code",
   "execution_count": 23,
   "id": "d2142bbd-c4fa-4cb8-932d-8a458dda4f60",
   "metadata": {},
   "outputs": [
    {
     "data": {
      "text/plain": [
       "{'time': array([1, 2]),\n",
       " 'position': array([[1, 1],\n",
       "        [2, 2]])}"
      ]
     },
     "execution_count": 23,
     "metadata": {},
     "output_type": "execute_result"
    }
   ],
   "source": [
    "trajectory[:2].data"
   ]
  },
  {
   "cell_type": "code",
   "execution_count": 24,
   "id": "4fff3ef3-f819-40d6-b510-7d328be8df56",
   "metadata": {},
   "outputs": [
    {
     "data": {
      "text/plain": [
       "array([[2, 2]])"
      ]
     },
     "execution_count": 24,
     "metadata": {},
     "output_type": "execute_result"
    }
   ],
   "source": [
    "trajectory[1:2, \"position\"]"
   ]
  },
  {
   "cell_type": "code",
   "execution_count": 25,
   "id": "bbe64b1d-50ba-4381-8257-cefc40908c09",
   "metadata": {},
   "outputs": [
    {
     "data": {
      "text/plain": [
       "{'position': array([[2, 2],\n",
       "        [4, 4]]),\n",
       " 'time': array([2, 4])}"
      ]
     },
     "execution_count": 25,
     "metadata": {},
     "output_type": "execute_result"
    }
   ],
   "source": [
    "trajectory[1:3, [\"position\", \"time\"]]"
   ]
  },
  {
   "cell_type": "code",
   "execution_count": 26,
   "id": "2b9e697e-42dd-4131-a8d5-868f408c332e",
   "metadata": {},
   "outputs": [
    {
     "data": {
      "text/plain": [
       "dtype('int64')"
      ]
     },
     "execution_count": 26,
     "metadata": {},
     "output_type": "execute_result"
    }
   ],
   "source": [
    "trajectory[\"time\"].dtype"
   ]
  },
  {
   "cell_type": "code",
   "execution_count": 27,
   "id": "a30a7362-c13b-46bf-a3d8-ed98ff9920ee",
   "metadata": {},
   "outputs": [
    {
     "data": {
      "text/plain": [
       "{'time': array([1.005]), 'position': array([[1.005, 1.005]])}"
      ]
     },
     "execution_count": 27,
     "metadata": {},
     "output_type": "execute_result"
    }
   ],
   "source": [
    "trajectory.sample(timestamps=[1.005]).data"
   ]
  },
  {
   "cell_type": "code",
   "execution_count": 28,
   "id": "90544477-d61e-4e53-a7a7-3a0dd499ef9b",
   "metadata": {},
   "outputs": [],
   "source": [
    "data = {\n",
    "    \"position\": np.array([[1, 1], [2, 2], [4, 4]]).astype(float),\n",
    "    \"time\": np.array([1, 2, 4], dtype=float),\n",
    "}\n",
    "trajectory = Trajectory(data=data)"
   ]
  },
  {
   "cell_type": "code",
   "execution_count": 29,
   "id": "bb5f45fd-a0a6-4300-a434-2baf72c2af72",
   "metadata": {},
   "outputs": [
    {
     "data": {
      "text/plain": [
       "{'time': array([1.005]), 'position': array([[1.005, 1.005]])}"
      ]
     },
     "execution_count": 29,
     "metadata": {},
     "output_type": "execute_result"
    }
   ],
   "source": [
    "trajectory.sample(timestamps=[1.005]).data"
   ]
  },
  {
   "cell_type": "code",
   "execution_count": 30,
   "id": "4cb1a022-5048-4dfb-98b8-0f173784ef22",
   "metadata": {},
   "outputs": [
    {
     "data": {
      "text/plain": [
       "{'time': array([-1,  0, 10, 11]),\n",
       " 'position': array([[1., 1.],\n",
       "        [1., 1.],\n",
       "        [4., 4.],\n",
       "        [4., 4.]])}"
      ]
     },
     "execution_count": 30,
     "metadata": {},
     "output_type": "execute_result"
    }
   ],
   "source": [
    "trajectory.sample(timestamps=[-1, 0, 10, 11]).data  # sampling outside trajectory interval extrapolates with first and last value as constants"
   ]
  },
  {
   "cell_type": "code",
   "execution_count": 31,
   "id": "6e7d7548-5539-41af-b7b5-34019dfeff4b",
   "metadata": {},
   "outputs": [
    {
     "data": {
      "text/plain": [
       "(float, 1.0, None)"
      ]
     },
     "execution_count": 31,
     "metadata": {},
     "output_type": "execute_result"
    }
   ],
   "source": [
    "type(trajectory.timestep), trajectory.timestep, trajectory.cfg.timestep  # timestep inferred as 1"
   ]
  },
  {
   "cell_type": "code",
   "execution_count": 32,
   "id": "42d10448-5780-4add-a44e-a13d39989808",
   "metadata": {},
   "outputs": [],
   "source": [
    "cfg = Trajectory().cfg"
   ]
  },
  {
   "cell_type": "code",
   "execution_count": 33,
   "id": "a57eda3b-b353-41ce-adfd-3ea42b12d784",
   "metadata": {},
   "outputs": [],
   "source": [
    "cfg.trajectory_keys = (\"position\", \"time\", \"identity\")"
   ]
  },
  {
   "cell_type": "code",
   "execution_count": 34,
   "id": "226e3d15-44c4-4bb8-a36d-ef2b49f1247d",
   "metadata": {},
   "outputs": [
    {
     "data": {
      "text/plain": [
       "(int, 1, None)"
      ]
     },
     "execution_count": 34,
     "metadata": {},
     "output_type": "execute_result"
    }
   ],
   "source": [
    "data = {\n",
    "    \"position\": np.array([[1, 1], [2, 2], [4, 4]]).astype(float),\n",
    "    \"time\": np.array([1, 2, 4]).astype(int),\n",
    "    \"identity\": np.array([\"a\", \"a\", \"a\"], dtype=np.dtypes.StringDType)\n",
    "}\n",
    "trajectory = Trajectory(data=data)\n",
    "\n",
    "type(trajectory.timestep), trajectory.timestep, trajectory.cfg.timestep  # timestep inferred as 1"
   ]
  },
  {
   "cell_type": "code",
   "execution_count": 35,
   "id": "c47818ca-94d4-4c00-853c-97a2b2667df6",
   "metadata": {},
   "outputs": [
    {
     "data": {
      "text/plain": [
       "array(['a', 'a', 'a'], dtype=StringDType())"
      ]
     },
     "execution_count": 35,
     "metadata": {},
     "output_type": "execute_result"
    }
   ],
   "source": [
    "trajectory[trajectory.cfg.key_identity]"
   ]
  },
  {
   "cell_type": "code",
   "execution_count": 36,
   "id": "19803620-30eb-44d6-98ca-c8becef60cc2",
   "metadata": {},
   "outputs": [
    {
     "data": {
      "text/plain": [
       "(dtype('float64'), StringDType())"
      ]
     },
     "execution_count": 36,
     "metadata": {},
     "output_type": "execute_result"
    }
   ],
   "source": [
    "trajectory.interpolate().data[\"time\"].dtype, trajectory.interpolate().data[\"identity\"].dtype"
   ]
  },
  {
   "cell_type": "code",
   "execution_count": 37,
   "id": "36eeefc2-afb9-4d98-8ece-8bc2a6bc8de9",
   "metadata": {},
   "outputs": [
    {
     "data": {
      "text/plain": [
       "{'identity': array(['a', 'a', 'a', 'a', 'a', 'a', 'a', 'a', 'a', 'a', 'a', 'a', 'a',\n",
       "        'a', 'a', 'a', 'a', 'a', 'a', 'a', 'a', 'a', 'a', 'a', 'a', 'a',\n",
       "        'a', 'a', 'a', 'a', 'a'], dtype=StringDType()),\n",
       " 'time': array([1. , 1.1, 1.2, 1.3, 1.4, 1.5, 1.6, 1.7, 1.8, 1.9, 2. , 2.1, 2.2,\n",
       "        2.3, 2.4, 2.5, 2.6, 2.7, 2.8, 2.9, 3. , 3.1, 3.2, 3.3, 3.4, 3.5,\n",
       "        3.6, 3.7, 3.8, 3.9, 4. ]),\n",
       " 'position': array([[1. , 1. ],\n",
       "        [1.1, 1.1],\n",
       "        [1.2, 1.2],\n",
       "        [1.3, 1.3],\n",
       "        [1.4, 1.4],\n",
       "        [1.5, 1.5],\n",
       "        [1.6, 1.6],\n",
       "        [1.7, 1.7],\n",
       "        [1.8, 1.8],\n",
       "        [1.9, 1.9],\n",
       "        [2. , 2. ],\n",
       "        [2.1, 2.1],\n",
       "        [2.2, 2.2],\n",
       "        [2.3, 2.3],\n",
       "        [2.4, 2.4],\n",
       "        [2.5, 2.5],\n",
       "        [2.6, 2.6],\n",
       "        [2.7, 2.7],\n",
       "        [2.8, 2.8],\n",
       "        [2.9, 2.9],\n",
       "        [3. , 3. ],\n",
       "        [3.1, 3.1],\n",
       "        [3.2, 3.2],\n",
       "        [3.3, 3.3],\n",
       "        [3.4, 3.4],\n",
       "        [3.5, 3.5],\n",
       "        [3.6, 3.6],\n",
       "        [3.7, 3.7],\n",
       "        [3.8, 3.8],\n",
       "        [3.9, 3.9],\n",
       "        [4. , 4. ]])}"
      ]
     },
     "execution_count": 37,
     "metadata": {},
     "output_type": "execute_result"
    }
   ],
   "source": [
    "trajectory.interpolate(timestep=0.1).data"
   ]
  },
  {
   "cell_type": "code",
   "execution_count": 38,
   "id": "fb1d5257-6f17-4540-afc5-bf679dfa1bd3",
   "metadata": {},
   "outputs": [
    {
     "data": {
      "text/plain": [
       "0.1"
      ]
     },
     "execution_count": 38,
     "metadata": {},
     "output_type": "execute_result"
    }
   ],
   "source": [
    "trajectory_interpolated = trajectory.interpolate(timestep=0.1)\n",
    "trajectory_interpolated.timestep"
   ]
  },
  {
   "cell_type": "code",
   "execution_count": 39,
   "id": "fe805b82-ccb3-4c20-83af-34ca1dbaa6df",
   "metadata": {},
   "outputs": [
    {
     "data": {
      "text/plain": [
       "{'time': array([1., 2., 3., 4.]),\n",
       " 'position': array([[1., 1.],\n",
       "        [2., 2.],\n",
       "        [3., 3.],\n",
       "        [4., 4.]])}"
      ]
     },
     "execution_count": 39,
     "metadata": {},
     "output_type": "execute_result"
    }
   ],
   "source": [
    "trajectory_interpolated[::10, (\"time\", \"position\")]"
   ]
  },
  {
   "cell_type": "code",
   "execution_count": 40,
   "id": "cc57196c-0504-477f-86be-a396857b773b",
   "metadata": {},
   "outputs": [],
   "source": [
    "trajectory_interpolated[0, \"time\"] = -5"
   ]
  },
  {
   "cell_type": "code",
   "execution_count": 41,
   "id": "b4fc7b06-ac89-4bc5-9499-7a158725b823",
   "metadata": {},
   "outputs": [
    {
     "data": {
      "text/plain": [
       "array([-5. , -4.9, -4.8, -4.7, -4.6, -4.5, -4.4, -4.3, -4.2, -4.1, -4. ,\n",
       "       -3.9, -3.8, -3.7, -3.6, -3.5, -3.4, -3.3, -3.2, -3.1, -3. , -2.9,\n",
       "       -2.8, -2.7, -2.6, -2.5, -2.4, -2.3, -2.2, -2.1, -2. , -1.9, -1.8,\n",
       "       -1.7, -1.6, -1.5, -1.4, -1.3, -1.2, -1.1, -1. , -0.9, -0.8, -0.7,\n",
       "       -0.6, -0.5, -0.4, -0.3, -0.2, -0.1,  0. ,  0.1,  0.2,  0.3,  0.4,\n",
       "        0.5,  0.6,  0.7,  0.8,  0.9,  1. ,  1.1,  1.2,  1.3,  1.4,  1.5,\n",
       "        1.6,  1.7,  1.8,  1.9,  2. ,  2.1,  2.2,  2.3,  2.4,  2.5,  2.6,\n",
       "        2.7,  2.8,  2.9,  3. ,  3.1,  3.2,  3.3,  3.4,  3.5,  3.6,  3.7,\n",
       "        3.8,  3.9,  4. ])"
      ]
     },
     "execution_count": 41,
     "metadata": {},
     "output_type": "execute_result"
    }
   ],
   "source": [
    "trajectory_interpolated.interpolate().timestamps"
   ]
  },
  {
   "cell_type": "code",
   "execution_count": 42,
   "id": "3502db9b-923e-484d-bbd5-ebb644034bc3",
   "metadata": {},
   "outputs": [
    {
     "data": {
      "text/plain": [
       "array([-4. , -3.9, -3.8, -3.7, -3.6, -3.5, -3.4, -3.3, -3.2, -3.1, -3. ])"
      ]
     },
     "execution_count": 42,
     "metadata": {},
     "output_type": "execute_result"
    }
   ],
   "source": [
    "trajectory_interpolated.slice_window(-4, -3).timestamps"
   ]
  },
  {
   "cell_type": "code",
   "execution_count": 43,
   "id": "caea5e08-0df2-4c89-b0d1-5ce197634212",
   "metadata": {},
   "outputs": [
    {
     "data": {
      "text/plain": [
       "array([], dtype=float64)"
      ]
     },
     "execution_count": 43,
     "metadata": {},
     "output_type": "execute_result"
    }
   ],
   "source": [
    "trajectory_interpolated.slice_window(-4, -3, interpolate=False).timestamps"
   ]
  },
  {
   "cell_type": "code",
   "execution_count": 44,
   "id": "862e9c1c-c0f3-4aa2-a13f-5644d50b1dd0",
   "metadata": {},
   "outputs": [
    {
     "data": {
      "text/plain": [
       "array([-5. ,  1.1,  1.2,  1.3,  1.4,  1.5,  1.6,  1.7,  1.8,  1.9,  2. ,\n",
       "        2.1,  2.2,  2.3,  2.4,  2.5,  2.6,  2.7,  2.8,  2.9,  3. ,  3.1,\n",
       "        3.2,  3.3,  3.4,  3.5,  3.6,  3.7,  3.8,  3.9,  4. ])"
      ]
     },
     "execution_count": 44,
     "metadata": {},
     "output_type": "execute_result"
    }
   ],
   "source": [
    "trajectory_interpolated.timestamps"
   ]
  },
  {
   "cell_type": "code",
   "execution_count": 45,
   "id": "5ad1959a-511f-4e1d-aad0-141669af669e",
   "metadata": {},
   "outputs": [],
   "source": [
    "data = {\n",
    "    \"position\": np.array([[1, 1], [2, 2], [4, 4]]).astype(float),\n",
    "    \"time\": np.array([1, 2, 4]),\n",
    "    \"identity\": np.array([\"a\", \"a\", \"b\"], dtype=np.dtypes.StringDType)\n",
    "}\n",
    "data[\"position\"] = np.repeat(data[\"position\"], 2).reshape(-1, 2)\n",
    "data[\"time\"] = np.repeat(data[\"time\"], 2)\n",
    "data[\"time\"][-1] = 5\n",
    "data[\"identity\"] = np.repeat(data[\"identity\"], 2)\n",
    "instances = InstanceCollection(data=data)"
   ]
  },
  {
   "cell_type": "code",
   "execution_count": 46,
   "id": "00e8c931-c5c7-420e-8192-964c5d7d60b3",
   "metadata": {},
   "outputs": [
    {
     "data": {
      "text/plain": [
       "{'identity': array([], dtype=StringDType()),\n",
       " 'time': array([], dtype=int64),\n",
       " 'position': array([], shape=(0, 2), dtype=float64)}"
      ]
     },
     "execution_count": 46,
     "metadata": {},
     "output_type": "execute_result"
    }
   ],
   "source": [
    "instances.select(timestamp=-1).data"
   ]
  },
  {
   "cell_type": "code",
   "execution_count": 47,
   "id": "05ba3222-bd47-4c57-b8d2-bfcaae9de71b",
   "metadata": {},
   "outputs": [
    {
     "name": "stdout",
     "output_type": "stream",
     "text": [
      "75.7 μs ± 290 ns per loop (mean ± std. dev. of 7 runs, 10,000 loops each)\n"
     ]
    }
   ],
   "source": [
    "%timeit instances.select(timestamp=1)"
   ]
  },
  {
   "cell_type": "code",
   "execution_count": 48,
   "id": "0f1cabd1-c7cd-4e64-b6f4-c93b088151e7",
   "metadata": {},
   "outputs": [
    {
     "name": "stdout",
     "output_type": "stream",
     "text": [
      "94.3 μs ± 223 ns per loop (mean ± std. dev. of 7 runs, 10,000 loops each)\n"
     ]
    }
   ],
   "source": [
    "%timeit instances.select(timestamp=5, identity=\"b\")"
   ]
  },
  {
   "cell_type": "code",
   "execution_count": 50,
   "id": "1326f159-0d79-4a7a-b948-aa9bd61d858b",
   "metadata": {},
   "outputs": [
    {
     "data": {
      "text/plain": [
       "<pyTrajectory.data_structures.timestamped_collection.TimestampedInstanceCollection at 0x7f771f226e10>"
      ]
     },
     "execution_count": 50,
     "metadata": {},
     "output_type": "execute_result"
    }
   ],
   "source": [
    "TimestampedInstanceCollection(data=trajectory.interpolate().data).select(timestamp=3)"
   ]
  },
  {
   "cell_type": "code",
   "execution_count": 50,
   "id": "41441006-c2bc-4e65-b714-8aeaa9164d85",
   "metadata": {},
   "outputs": [
    {
     "ename": "TypeError",
     "evalue": "unhashable type: 'dict'",
     "output_type": "error",
     "traceback": [
      "\u001b[0;31m---------------------------------------------------------------------------\u001b[0m",
      "\u001b[0;31mTypeError\u001b[0m                                 Traceback (most recent call last)",
      "Cell \u001b[0;32mIn[50], line 1\u001b[0m\n\u001b[0;32m----> 1\u001b[0m \u001b[38;5;28;43mset\u001b[39;49m\u001b[43m(\u001b[49m\u001b[43m[\u001b[49m\u001b[43mcfg\u001b[49m\u001b[43m,\u001b[49m\u001b[43m \u001b[49m\u001b[43mcfg\u001b[49m\u001b[38;5;241;43m.\u001b[39;49m\u001b[43mcopy\u001b[49m\u001b[43m(\u001b[49m\u001b[43m)\u001b[49m\u001b[43m]\u001b[49m\u001b[43m)\u001b[49m\n",
      "File \u001b[0;32m~/miniconda3/envs/pyt/lib/python3.12/site-packages/pyTrajectory/config.py:108\u001b[0m, in \u001b[0;36mBaseConfig.__hash__\u001b[0;34m(self)\u001b[0m\n\u001b[1;32m    107\u001b[0m \u001b[38;5;28;01mdef\u001b[39;00m \u001b[38;5;21m__hash__\u001b[39m(\u001b[38;5;28mself\u001b[39m) \u001b[38;5;241m-\u001b[39m\u001b[38;5;241m>\u001b[39m \u001b[38;5;28mint\u001b[39m:\n\u001b[0;32m--> 108\u001b[0m     \u001b[38;5;28;01mreturn\u001b[39;00m \u001b[38;5;28;43mhash\u001b[39;49m\u001b[43m(\u001b[49m\u001b[38;5;28;43mself\u001b[39;49m\u001b[43m(\u001b[49m\u001b[43m)\u001b[49m\u001b[43m)\u001b[49m\n",
      "\u001b[0;31mTypeError\u001b[0m: unhashable type: 'dict'"
     ]
    }
   ],
   "source": [
    "set([cfg, cfg.copy()])"
   ]
  },
  {
   "cell_type": "code",
   "execution_count": 52,
   "id": "8f47a3a7-5bda-4eed-8210-58ab83cb3275",
   "metadata": {},
   "outputs": [
    {
     "ename": "TypeError",
     "evalue": "unhashable type: 'dict'",
     "output_type": "error",
     "traceback": [
      "\u001b[0;31m---------------------------------------------------------------------------\u001b[0m",
      "\u001b[0;31mTypeError\u001b[0m                                 Traceback (most recent call last)",
      "Cell \u001b[0;32mIn[52], line 1\u001b[0m\n\u001b[0;32m----> 1\u001b[0m \u001b[38;5;28;43mhash\u001b[39;49m\u001b[43m(\u001b[49m\u001b[38;5;28;43mdict\u001b[39;49m\u001b[43m(\u001b[49m\u001b[43m)\u001b[49m\u001b[43m)\u001b[49m\n",
      "\u001b[0;31mTypeError\u001b[0m: unhashable type: 'dict'"
     ]
    }
   ],
   "source": [
    "hash(dict())"
   ]
  }
 ],
 "metadata": {
  "kernelspec": {
   "display_name": "Python 3 (ipykernel)",
   "language": "python",
   "name": "python3"
  },
  "language_info": {
   "codemirror_mode": {
    "name": "ipython",
    "version": 3
   },
   "file_extension": ".py",
   "mimetype": "text/x-python",
   "name": "python",
   "nbconvert_exporter": "python",
   "pygments_lexer": "ipython3",
   "version": "3.12.4"
  }
 },
 "nbformat": 4,
 "nbformat_minor": 5
}
