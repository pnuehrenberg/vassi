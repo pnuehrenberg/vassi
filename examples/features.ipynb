{
 "cells": [
  {
   "cell_type": "code",
   "execution_count": 1,
   "id": "974e9556-87eb-49a8-ad09-e596517752e9",
   "metadata": {},
   "outputs": [],
   "source": [
    "%config InlineBackend.figure_format='retina'"
   ]
  },
  {
   "cell_type": "code",
   "execution_count": 2,
   "id": "1692c13d-fa2d-4889-9918-d7e7b6b48758",
   "metadata": {},
   "outputs": [],
   "source": [
    "import json\n",
    "\n",
    "from pyTrajectory.config import cfg\n",
    "\n",
    "from pyTrajectory.io import load_trajectories, load_data\n",
    "from pyTrajectory.data_structures import Trajectory\n",
    "\n",
    "import pandas as pd\n",
    "import numpy as np\n",
    "\n",
    "from pyTrajectory.dataset import to_annotations, AnnotatedDyad\n",
    "\n",
    "cfg.key_keypoints = \"keypoints\"\n",
    "cfg.key_timestamp = \"timestamps\"\n",
    "\n",
    "cfg.trajectory_keys = (\n",
    "    \"keypoints\",\n",
    "    \"timestamps\",\n",
    ")"
   ]
  },
  {
   "cell_type": "code",
   "execution_count": 3,
   "id": "9cf57709-baad-4f8f-b9de-5935b7a4a1b1",
   "metadata": {},
   "outputs": [],
   "source": [
    "def load_calms21_dyads(calms21_json_file, categories=(\"attack\", \"investigation\", \"mount\")):\n",
    "    dyads = []\n",
    "    with open(calms21_json_file) as json_file:\n",
    "        json_data = json.load(json_file)\n",
    "        for data in json_data.values():\n",
    "            for pair in [key for key in data.keys()]:\n",
    "                pair_data = data.pop(pair)\n",
    "                dyads.append(\n",
    "                    AnnotatedDyad(\n",
    "                        Trajectory(\n",
    "                            data={\n",
    "                                \"keypoints\": np.asarray(pair_data[\"keypoints\"])[:, 0].transpose(0, 2, 1),\n",
    "                                \"timestamps\": np.arange(len(pair_data[\"keypoints\"])),\n",
    "                            }\n",
    "                        ),\n",
    "                        Trajectory(\n",
    "                            data={\n",
    "                                \"keypoints\": np.asarray(pair_data[\"keypoints\"])[:, 1].transpose(0, 2, 1),\n",
    "                                \"timestamps\": np.arange(len(pair_data[\"keypoints\"])),\n",
    "                            }\n",
    "                        ),\n",
    "                        annotations=to_annotations(\n",
    "                            np.asarray(pair_data[\"annotations\"]),\n",
    "                            category_names = [\"attack\", \"investigation\", \"mount\", \"other\"],\n",
    "                            drop=[\"other\"]\n",
    "                        ),\n",
    "                        categories=categories,\n",
    "                    )\n",
    "                )\n",
    "    del data\n",
    "    return dyads"
   ]
  },
  {
   "cell_type": "code",
   "execution_count": 4,
   "id": "fe5c9852-a108-4b45-89ad-45922ed36fb4",
   "metadata": {},
   "outputs": [],
   "source": [
    "dyads_train = load_calms21_dyads(\"/media/paul/Data/asoid_testing/calms21_task1_train.json\")"
   ]
  },
  {
   "cell_type": "code",
   "execution_count": 5,
   "id": "854a2878-1946-4bdc-abc8-59af69586dd1",
   "metadata": {},
   "outputs": [],
   "source": [
    "dyads_test = load_calms21_dyads(\"/media/paul/Data/asoid_testing/calms21_task1_test.json\")"
   ]
  },
  {
   "cell_type": "code",
   "execution_count": 6,
   "id": "fb73c09a-d9e3-4b0e-95ec-c9229ec7fddc",
   "metadata": {},
   "outputs": [],
   "source": [
    "durations = np.concatenate([dyad.durations() for dyad in dyads_train])"
   ]
  },
  {
   "cell_type": "code",
   "execution_count": 7,
   "id": "8e39bdaf-970e-40c0-9b40-ff7f0ca86128",
   "metadata": {},
   "outputs": [],
   "source": [
    "import pyTrajectory.sliding_metrics as ptsm"
   ]
  },
  {
   "cell_type": "code",
   "execution_count": 8,
   "id": "3be689b7-e776-4856-9354-81da56278ab5",
   "metadata": {},
   "outputs": [],
   "source": [
    "import pyTrajectory.features as ptf"
   ]
  },
  {
   "cell_type": "code",
   "execution_count": 9,
   "id": "d6299810-6418-45be-b42f-ed0d0ccba234",
   "metadata": {},
   "outputs": [],
   "source": [
    "from pyTrajectory.features import DataFrameFeatureExtractor\n",
    "\n",
    "# {\n",
    "#     0: \"nose\",\n",
    "#     1: \"left ear\",\n",
    "#     2: \"right ear\",\n",
    "#     3: \"neck\",\n",
    "#     4: \"left hip\",\n",
    "#     5: \"right hip\",\n",
    "#     6: \"tail base\",\n",
    "# }\n",
    "\n",
    "feature_config = {\n",
    "    \"individual\": [\n",
    "        # step 5\n",
    "        (\"speed\", {\"step\": 5, \"keypoints\": (0, 3, 6)}),\n",
    "        (\"projected_velocity\", {\"step\": 5, \"keypoints_1\": (0, 1, 2, 3, 4, 5, 6), \"keypoint_pairs_2\": ((6, 3), ), \"discard\": \"-rej\"}),\n",
    "        (\"projected_velocity\", {\"step\": 5, \"keypoints_1\": (0, 1, 2, 3, 4, 5, 6), \"keypoint_pairs_2\": ((6, 3), ), \"as_absolute\": True, \"discard\": \"-proj\"}),\n",
    "        (\"orientation_change\", {\"step\": 5, \"keypoint_pairs\": ((3, 0), (6, 3)), \"as_absolute\": True}),\n",
    "        # step 30\n",
    "        (\"speed\", {\"step\": 30, \"keypoints\": (0, 3, 6)}),\n",
    "        (\"projected_velocity\", {\"step\": 30, \"keypoints_1\": (0, 1, 2, 3, 4, 5, 6), \"keypoint_pairs_2\": ((6, 3), ), \"discard\": \"-rej\"}),\n",
    "        (\"projected_velocity\", {\"step\": 30, \"keypoints_1\": (0, 1, 2, 3, 4, 5, 6), \"keypoint_pairs_2\": ((6, 3), ), \"as_absolute\": True, \"discard\": \"-proj\"}),\n",
    "        (\"orientation_change\", {\"step\": 30, \"keypoint_pairs\": ((3, 0), (6, 3)), \"as_absolute\": True}),\n",
    "        # step 15\n",
    "        (\"speed\", {\"step\": 15, \"keypoints\": (0, 3, 6)}),\n",
    "        (\"projected_velocity\", {\"step\": 15, \"keypoints_1\": (0, 1, 2, 3, 4, 5, 6), \"keypoint_pairs_2\": ((6, 3), ), \"discard\": \"-rej\"}),\n",
    "        (\"projected_velocity\", {\"step\": 15, \"keypoints_1\": (0, 1, 2, 3, 4, 5, 6), \"keypoint_pairs_2\": ((6, 3), ), \"as_absolute\": True, \"discard\": \"-proj\"}),\n",
    "        (\"orientation_change\", {\"step\": 15, \"keypoint_pairs\": ((3, 0), (3, 1), (3, 2), (6, 3), (6, 4), (6, 5)), \"as_absolute\": True}),\n",
    "        (\n",
    "            \"posture_angles\",\n",
    "            {\n",
    "                \"keypoint_pairs_1\": ((6, 3), (3, 0), (3, 0), (6, 3), (6, 3)),\n",
    "                \"keypoint_pairs_2\": ((3, 0), (3, 1), (3, 2), (6, 4), (6, 5)),\n",
    "                \"element_wise\": True\n",
    "            }\n",
    "        ),\n",
    "    ],\n",
    "    \"dyadic\": [\n",
    "        (\"target_velocity\", {\"step\": 5, \"keypoints_1\": (0, 3), \"keypoint_pairs_2\": ((0, 0), (0, 3), (0, 6), (3, 0), (3, 3), (3, 6)), \"discard\": \"-rej\"}),\n",
    "        (\"target_velocity\", {\"step\": 30, \"keypoints_1\": (0, 3), \"keypoint_pairs_2\": ((0, 0), (0, 3), (0, 6), (3, 0), (3, 3), (3, 6)), \"discard\": \"-rej\"}),\n",
    "        (\"target_velocity\", {\"step\": 15, \"keypoints_1\": (0, 3), \"keypoint_pairs_2\": ((0, 0), (0, 3), (0, 6), (3, 0), (3, 3), (3, 6)), \"discard\": \"-rej\"}),\n",
    "        (\"target_velocity\", {\"step\": 5, \"keypoints_1\": (0, 3), \"keypoint_pairs_2\": ((0, 0), (0, 3), (0, 6), (3, 0), (3, 3), (3, 6)), \"as_absolute\": True, \"discard\": \"-proj\"}),\n",
    "        (\"target_velocity\", {\"step\": 30, \"keypoints_1\": (0, 3), \"keypoint_pairs_2\": ((0, 0), (0, 3), (0, 6), (3, 0), (3, 3), (3, 6)), \"as_absolute\": True, \"discard\": \"-proj\"}),\n",
    "        (\"target_velocity\", {\"step\": 15, \"keypoints_1\": (0, 3), \"keypoint_pairs_2\": ((0, 0), (0, 3), (0, 6), (3, 0), (3, 3), (3, 6)), \"as_absolute\": True, \"discard\": \"-proj\"}),\n",
    "        (\"keypoint_distances\", {\"keypoints_1\": (0, 1, 2, 3, 4, 5, 6), \"keypoints_2\": (0, 1, 2, 3, 4, 5, 6)}),\n",
    "        (\"target_angles\", {\"keypoint_pairs_1\": ((3, 0), (6, 3)), \"keypoints_2\": (0, 1, 2, 3, 4, 5, 6), \"as_absolute\": True}),\n",
    "        (\"posture_alignment\", {\"keypoint_pairs_1\": ((3, 0), (6, 3)), \"keypoint_pairs_2\": ((3, 0), (6, 3))}),\n",
    "        (\"target_angles\", {\"keypoint_pairs_1\": ((3, 0), (6, 3)), \"keypoints_2\": (0, 3, 6), \"as_sign_change_latency\": True}),\n",
    "    ]\n",
    "    \n",
    "}\n",
    "\n",
    "extractor = DataFrameFeatureExtractor().load(feature_config)"
   ]
  },
  {
   "cell_type": "code",
   "execution_count": 10,
   "id": "1dbc3546-0cd4-43ee-bfcb-0c9d8c7ce15f",
   "metadata": {},
   "outputs": [],
   "source": [
    "# from sklearn.preprocessing import KBinsDiscretizer\n",
    "\n",
    "# from sklearn.compose import ColumnTransformer\n",
    "# from sklearn.preprocessing import MinMaxScaler, PowerTransformer, QuantileTransformer, FunctionTransformer\n",
    "# from sklearn.decomposition import PCA, IncrementalPCA\n",
    "\n",
    "# from sklearn.cluster import KMeans\n",
    "\n",
    "\n",
    "# def get_column_transformer(columns):\n",
    "#     alternative_transformer = Pipeline(\n",
    "#         [\n",
    "#             (\"k_bins\", KBinsDiscretizer(n_bins=20, encode=\"ordinal\")),  # pass random state\n",
    "#             (\"min_max\", MinMaxScaler(clip=True)),\n",
    "#         ])\n",
    "#     default_transformer = QuantileTransformer(output_distribution=\"normal\")  # pass random state\n",
    "#     return ColumnTransformer(\n",
    "#         [\n",
    "#             (\"quantile_transformer\", default_transformer, [column for column in columns if \"scl\" not in column]),\n",
    "#             (\"k_bins_discretizer\", alternative_transformer, [column for column in columns if \"scl\" in column])\n",
    "#         ],\n",
    "#         n_jobs=-1,\n",
    "#     )"
   ]
  },
  {
   "cell_type": "code",
   "execution_count": 11,
   "id": "86384c26-8c00-492a-aaf9-770d1c7431df",
   "metadata": {},
   "outputs": [
    {
     "name": "stderr",
     "output_type": "stream",
     "text": [
      "Time scales adjusted to match num_windows_per_scale: [38] -> [37].\n"
     ]
    }
   ],
   "source": [
    "aggregator = ptsm.SlidingWindowAggregator(\n",
    "    [\n",
    "        ptsm.metrics.mean,\n",
    "        ptsm.metrics.median,\n",
    "        ptsm.metrics.min,\n",
    "        ptsm.metrics.max,\n",
    "        ptsm.metrics.q10,\n",
    "        ptsm.metrics.q90,\n",
    "        ptsm.as_window_delta(ptsm.metrics.mean),\n",
    "        ptsm.as_window_delta(ptsm.metrics.median),\n",
    "        ptsm.as_window_delta(ptsm.metrics.min),\n",
    "        ptsm.as_window_delta(ptsm.metrics.max),\n",
    "        ptsm.as_window_delta(ptsm.metrics.q10),\n",
    "        ptsm.as_window_delta(ptsm.metrics.q90),\n",
    "    ],\n",
    "    *ptsm.get_window_slices(1, durations=durations, time_scale_quantiles=[0.5]),\n",
    ")\n",
    "\n",
    "# scaler = get_column_transformer(aggregator.get_feature_names_out(extractor.feature_names))"
   ]
  },
  {
   "cell_type": "code",
   "execution_count": 12,
   "id": "b3810ae1-4303-40cf-b0a0-34ca9e179137",
   "metadata": {},
   "outputs": [],
   "source": [
    "import pandas as pd\n",
    "from sklearn.pipeline import Pipeline\n",
    "from sklearn.impute import KNNImputer"
   ]
  },
  {
   "cell_type": "code",
   "execution_count": 13,
   "id": "658edba7-ff3f-4c51-b74b-4da7bb9e3b8c",
   "metadata": {},
   "outputs": [],
   "source": [
    "from tqdm.auto import tqdm"
   ]
  },
  {
   "cell_type": "code",
   "execution_count": 14,
   "id": "5aa62f88-7186-49e7-a40f-86664575e58b",
   "metadata": {},
   "outputs": [],
   "source": [
    "for dyad in dyads_train:\n",
    "    dyad.X = None\n",
    "    dyad.y = None\n",
    "    dyad.X_subsampled = None\n",
    "    dyad.y_subsampled = None\n",
    "\n",
    "for dyad in dyads_test:\n",
    "    dyad.X = None\n",
    "    dyad.y = None\n",
    "    dyad.X_subsampled = None\n",
    "    dyad.y_subsampled = None"
   ]
  },
  {
   "cell_type": "code",
   "execution_count": 15,
   "id": "1bee0268-8265-4173-a61f-152cb68de4b7",
   "metadata": {},
   "outputs": [
    {
     "data": {
      "application/vnd.jupyter.widget-view+json": {
       "model_id": "c0bf8a7d5f1b43a69fff33a3ecbb28db",
       "version_major": 2,
       "version_minor": 0
      },
      "text/plain": [
       "  0%|          | 0/70 [00:00<?, ?it/s]"
      ]
     },
     "metadata": {},
     "output_type": "display_data"
    }
   ],
   "source": [
    "import warnings\n",
    "\n",
    "X_train = []\n",
    "y_train = []\n",
    "\n",
    "with warnings.catch_warnings():\n",
    "    warnings.filterwarnings(\"ignore\", message=\"^.*Bins whose width are too small.*$\", append=True)\n",
    "    warnings.filterwarnings(\"ignore\", message=\"^.*n_quantiles is set to n_samples.*$\", append=True)\n",
    "\n",
    "    for dyad in tqdm(dyads_train):\n",
    "        if len(dyad.trajectory) < 60:\n",
    "            continue\n",
    "        dyad = dyad.sample(\n",
    "            extractor,\n",
    "        )\n",
    "        X_train.append(dyad.dataset[0])\n",
    "        y_train.append(dyad.dataset[1])\n",
    "\n",
    "\n",
    "X_train = pd.concat(X_train, axis=0)\n",
    "y_train = np.concatenate(y_train, axis=0)"
   ]
  },
  {
   "cell_type": "code",
   "execution_count": 16,
   "id": "3b37941c-f62a-4a21-8375-33abc5a38894",
   "metadata": {},
   "outputs": [],
   "source": [
    "from sklearn.preprocessing import QuantileTransformer\n",
    "\n",
    "pipeline = Pipeline([(\"imputer\", KNNImputer()), (\"transformer\", QuantileTransformer(output_distribution=\"normal\")), (\"aggregator\", aggregator)])\n",
    "pipeline = pipeline.set_output(transform=\"pandas\")\n",
    "\n",
    "pipeline = pipeline.fit(X_train, y_train)"
   ]
  },
  {
   "cell_type": "code",
   "execution_count": 25,
   "id": "ec861524-2ac3-4a98-9235-c297b984f948",
   "metadata": {},
   "outputs": [
    {
     "data": {
      "application/vnd.jupyter.widget-view+json": {
       "model_id": "520f23e026ca4f91927012f689995c7e",
       "version_major": 2,
       "version_minor": 0
      },
      "text/plain": [
       "  0%|          | 0/70 [00:00<?, ?it/s]"
      ]
     },
     "metadata": {},
     "output_type": "display_data"
    },
    {
     "ename": "KeyboardInterrupt",
     "evalue": "",
     "output_type": "error",
     "traceback": [
      "\u001b[0;31m---------------------------------------------------------------------------\u001b[0m",
      "\u001b[0;31mKeyboardInterrupt\u001b[0m                         Traceback (most recent call last)",
      "Cell \u001b[0;32mIn[25], line 12\u001b[0m\n\u001b[1;32m     10\u001b[0m \u001b[38;5;28;01mif\u001b[39;00m \u001b[38;5;28mlen\u001b[39m(dyad\u001b[38;5;241m.\u001b[39mtrajectory) \u001b[38;5;241m<\u001b[39m \u001b[38;5;241m60\u001b[39m:\n\u001b[1;32m     11\u001b[0m     \u001b[38;5;28;01mcontinue\u001b[39;00m\n\u001b[0;32m---> 12\u001b[0m dyad \u001b[38;5;241m=\u001b[39m \u001b[43mdyad\u001b[49m\u001b[38;5;241;43m.\u001b[39;49m\u001b[43msample\u001b[49m\u001b[43m(\u001b[49m\n\u001b[1;32m     13\u001b[0m \u001b[43m    \u001b[49m\u001b[43mextractor\u001b[49m\u001b[43m,\u001b[49m\n\u001b[1;32m     14\u001b[0m \u001b[43m    \u001b[49m\u001b[43mpipeline\u001b[49m\u001b[38;5;241;43m=\u001b[39;49m\u001b[43mpipeline\u001b[49m\u001b[43m,\u001b[49m\n\u001b[1;32m     15\u001b[0m \u001b[43m    \u001b[49m\u001b[43mfit_pipeline\u001b[49m\u001b[38;5;241;43m=\u001b[39;49m\u001b[38;5;28;43;01mFalse\u001b[39;49;00m\u001b[43m,\u001b[49m\n\u001b[1;32m     16\u001b[0m \u001b[43m\u001b[49m\u001b[43m)\u001b[49m\n\u001b[1;32m     17\u001b[0m X_partial \u001b[38;5;241m=\u001b[39m dyad\u001b[38;5;241m.\u001b[39mdataset[\u001b[38;5;241m0\u001b[39m]\n\u001b[1;32m     18\u001b[0m \u001b[38;5;28;01mif\u001b[39;00m \u001b[38;5;28mlen\u001b[39m(X_partial) \u001b[38;5;241m<\u001b[39m n_components:\n",
      "File \u001b[0;32m~/miniconda3/envs/pyt/lib/python3.12/site-packages/pyTrajectory/dataset/types/sampleable.py:218\u001b[0m, in \u001b[0;36mAnnotatedSampleable.sample\u001b[0;34m(self, feature_extractor, pipeline, fit_pipeline)\u001b[0m\n\u001b[1;32m    211\u001b[0m \u001b[38;5;28;01mdef\u001b[39;00m \u001b[38;5;21msample\u001b[39m(  \u001b[38;5;66;03m# type: ignore\u001b[39;00m\n\u001b[1;32m    212\u001b[0m     \u001b[38;5;28mself\u001b[39m,\n\u001b[1;32m    213\u001b[0m     feature_extractor: FeatureExtractor \u001b[38;5;241m|\u001b[39m DataFrameFeatureExtractor,\n\u001b[0;32m   (...)\u001b[0m\n\u001b[1;32m    216\u001b[0m     fit_pipeline: \u001b[38;5;28mbool\u001b[39m \u001b[38;5;241m=\u001b[39m \u001b[38;5;28;01mTrue\u001b[39;00m,\n\u001b[1;32m    217\u001b[0m ) \u001b[38;5;241m-\u001b[39m\u001b[38;5;241m>\u001b[39m Self:\n\u001b[0;32m--> 218\u001b[0m     \u001b[38;5;28;43msuper\u001b[39;49m\u001b[43m(\u001b[49m\u001b[43m)\u001b[49m\u001b[38;5;241;43m.\u001b[39;49m\u001b[43msample\u001b[49m\u001b[43m(\u001b[49m\u001b[43mfeature_extractor\u001b[49m\u001b[43m,\u001b[49m\u001b[43m \u001b[49m\u001b[43mpipeline\u001b[49m\u001b[38;5;241;43m=\u001b[39;49m\u001b[43mpipeline\u001b[49m\u001b[43m,\u001b[49m\u001b[43m \u001b[49m\u001b[43mfit_pipeline\u001b[49m\u001b[38;5;241;43m=\u001b[39;49m\u001b[43mfit_pipeline\u001b[49m\u001b[43m)\u001b[49m\n\u001b[1;32m    219\u001b[0m     category_idx \u001b[38;5;241m=\u001b[39m [\u001b[38;5;28mself\u001b[39m\u001b[38;5;241m.\u001b[39mcategory_idx(category) \u001b[38;5;28;01mfor\u001b[39;00m category \u001b[38;5;129;01min\u001b[39;00m \u001b[38;5;28mself\u001b[39m\u001b[38;5;241m.\u001b[39mcategories]\n\u001b[1;32m    220\u001b[0m     y \u001b[38;5;241m=\u001b[39m [\n\u001b[1;32m    221\u001b[0m         np\u001b[38;5;241m.\u001b[39mrepeat(category, \u001b[38;5;28mlen\u001b[39m(_category_idx))\n\u001b[1;32m    222\u001b[0m         \u001b[38;5;28;01mfor\u001b[39;00m category, _category_idx \u001b[38;5;129;01min\u001b[39;00m \u001b[38;5;28mzip\u001b[39m(\u001b[38;5;28mself\u001b[39m\u001b[38;5;241m.\u001b[39mcategories, category_idx)\n\u001b[1;32m    223\u001b[0m     ]\n",
      "File \u001b[0;32m~/miniconda3/envs/pyt/lib/python3.12/site-packages/pyTrajectory/dataset/types/sampleable.py:115\u001b[0m, in \u001b[0;36mSampleable.sample\u001b[0;34m(self, feature_extractor, pipeline, fit_pipeline)\u001b[0m\n\u001b[1;32m    113\u001b[0m     X: NDArray \u001b[38;5;241m|\u001b[39m pd\u001b[38;5;241m.\u001b[39mDataFrame \u001b[38;5;241m=\u001b[39m pipeline\u001b[38;5;241m.\u001b[39mfit_transform(X)\n\u001b[1;32m    114\u001b[0m \u001b[38;5;28;01melse\u001b[39;00m:\n\u001b[0;32m--> 115\u001b[0m     X: NDArray \u001b[38;5;241m|\u001b[39m pd\u001b[38;5;241m.\u001b[39mDataFrame \u001b[38;5;241m=\u001b[39m \u001b[43mpipeline\u001b[49m\u001b[38;5;241;43m.\u001b[39;49m\u001b[43mtransform\u001b[49m\u001b[43m(\u001b[49m\u001b[43mX\u001b[49m\u001b[43m)\u001b[49m\n\u001b[1;32m    116\u001b[0m \u001b[38;5;28mself\u001b[39m\u001b[38;5;241m.\u001b[39mX \u001b[38;5;241m=\u001b[39m X\n\u001b[1;32m    117\u001b[0m \u001b[38;5;28;01mreturn\u001b[39;00m \u001b[38;5;28mself\u001b[39m\n",
      "File \u001b[0;32m~/miniconda3/envs/pyt/lib/python3.12/site-packages/sklearn/pipeline.py:903\u001b[0m, in \u001b[0;36mPipeline.transform\u001b[0;34m(self, X, **params)\u001b[0m\n\u001b[1;32m    901\u001b[0m Xt \u001b[38;5;241m=\u001b[39m X\n\u001b[1;32m    902\u001b[0m \u001b[38;5;28;01mfor\u001b[39;00m _, name, transform \u001b[38;5;129;01min\u001b[39;00m \u001b[38;5;28mself\u001b[39m\u001b[38;5;241m.\u001b[39m_iter():\n\u001b[0;32m--> 903\u001b[0m     Xt \u001b[38;5;241m=\u001b[39m \u001b[43mtransform\u001b[49m\u001b[38;5;241;43m.\u001b[39;49m\u001b[43mtransform\u001b[49m\u001b[43m(\u001b[49m\u001b[43mXt\u001b[49m\u001b[43m,\u001b[49m\u001b[43m \u001b[49m\u001b[38;5;241;43m*\u001b[39;49m\u001b[38;5;241;43m*\u001b[39;49m\u001b[43mrouted_params\u001b[49m\u001b[43m[\u001b[49m\u001b[43mname\u001b[49m\u001b[43m]\u001b[49m\u001b[38;5;241;43m.\u001b[39;49m\u001b[43mtransform\u001b[49m\u001b[43m)\u001b[49m\n\u001b[1;32m    904\u001b[0m \u001b[38;5;28;01mreturn\u001b[39;00m Xt\n",
      "File \u001b[0;32m~/miniconda3/envs/pyt/lib/python3.12/site-packages/sklearn/utils/_set_output.py:313\u001b[0m, in \u001b[0;36m_wrap_method_output.<locals>.wrapped\u001b[0;34m(self, X, *args, **kwargs)\u001b[0m\n\u001b[1;32m    311\u001b[0m \u001b[38;5;129m@wraps\u001b[39m(f)\n\u001b[1;32m    312\u001b[0m \u001b[38;5;28;01mdef\u001b[39;00m \u001b[38;5;21mwrapped\u001b[39m(\u001b[38;5;28mself\u001b[39m, X, \u001b[38;5;241m*\u001b[39margs, \u001b[38;5;241m*\u001b[39m\u001b[38;5;241m*\u001b[39mkwargs):\n\u001b[0;32m--> 313\u001b[0m     data_to_wrap \u001b[38;5;241m=\u001b[39m \u001b[43mf\u001b[49m\u001b[43m(\u001b[49m\u001b[38;5;28;43mself\u001b[39;49m\u001b[43m,\u001b[49m\u001b[43m \u001b[49m\u001b[43mX\u001b[49m\u001b[43m,\u001b[49m\u001b[43m \u001b[49m\u001b[38;5;241;43m*\u001b[39;49m\u001b[43margs\u001b[49m\u001b[43m,\u001b[49m\u001b[43m \u001b[49m\u001b[38;5;241;43m*\u001b[39;49m\u001b[38;5;241;43m*\u001b[39;49m\u001b[43mkwargs\u001b[49m\u001b[43m)\u001b[49m\n\u001b[1;32m    314\u001b[0m     \u001b[38;5;28;01mif\u001b[39;00m \u001b[38;5;28misinstance\u001b[39m(data_to_wrap, \u001b[38;5;28mtuple\u001b[39m):\n\u001b[1;32m    315\u001b[0m         \u001b[38;5;66;03m# only wrap the first output for cross decomposition\u001b[39;00m\n\u001b[1;32m    316\u001b[0m         return_tuple \u001b[38;5;241m=\u001b[39m (\n\u001b[1;32m    317\u001b[0m             _wrap_data_with_container(method, data_to_wrap[\u001b[38;5;241m0\u001b[39m], X, \u001b[38;5;28mself\u001b[39m),\n\u001b[1;32m    318\u001b[0m             \u001b[38;5;241m*\u001b[39mdata_to_wrap[\u001b[38;5;241m1\u001b[39m:],\n\u001b[1;32m    319\u001b[0m         )\n",
      "File \u001b[0;32m~/miniconda3/envs/pyt/lib/python3.12/site-packages/pyTrajectory/sliding_metrics/transform.py:95\u001b[0m, in \u001b[0;36mSlidingWindowAggregator.transform\u001b[0;34m(self, X)\u001b[0m\n\u001b[1;32m     87\u001b[0m \u001b[38;5;28;01mdef\u001b[39;00m \u001b[38;5;21mtransform\u001b[39m(\u001b[38;5;28mself\u001b[39m, X: NDArray \u001b[38;5;241m|\u001b[39m pd\u001b[38;5;241m.\u001b[39mDataFrame) \u001b[38;5;241m-\u001b[39m\u001b[38;5;241m>\u001b[39m NDArray:\n\u001b[1;32m     88\u001b[0m     \u001b[38;5;66;03m# X is not typed in pandas\u001b[39;00m\n\u001b[1;32m     89\u001b[0m     X_array: NDArray \u001b[38;5;241m=\u001b[39m \u001b[38;5;28mself\u001b[39m\u001b[38;5;241m.\u001b[39m_validate_data(\n\u001b[1;32m     90\u001b[0m         X,  \u001b[38;5;66;03m# type: ignore\u001b[39;00m\n\u001b[1;32m     91\u001b[0m         cast_to_ndarray\u001b[38;5;241m=\u001b[39m\u001b[38;5;28;01mTrue\u001b[39;00m,\n\u001b[1;32m     92\u001b[0m         ensure_2d\u001b[38;5;241m=\u001b[39m\u001b[38;5;28;01mTrue\u001b[39;00m,\n\u001b[1;32m     93\u001b[0m     )\n\u001b[1;32m     94\u001b[0m     \u001b[38;5;28;01mreturn\u001b[39;00m flatten(\n\u001b[0;32m---> 95\u001b[0m         \u001b[43mapply_multiple_to_sliding_windows\u001b[49m\u001b[43m(\u001b[49m\n\u001b[1;32m     96\u001b[0m \u001b[43m            \u001b[49m\u001b[43mX_array\u001b[49m\u001b[43m,\u001b[49m\n\u001b[1;32m     97\u001b[0m \u001b[43m            \u001b[49m\u001b[38;5;28;43mself\u001b[39;49m\u001b[38;5;241;43m.\u001b[39;49m\u001b[43mwindow_size\u001b[49m\u001b[43m,\u001b[49m\n\u001b[1;32m     98\u001b[0m \u001b[43m            \u001b[49m\u001b[38;5;28;43mself\u001b[39;49m\u001b[38;5;241;43m.\u001b[39;49m\u001b[43mmetric_funcs\u001b[49m\u001b[43m,\u001b[49m\n\u001b[1;32m     99\u001b[0m \u001b[43m            \u001b[49m\u001b[43mwindow_slices\u001b[49m\u001b[38;5;241;43m=\u001b[39;49m\u001b[38;5;28;43mself\u001b[39;49m\u001b[38;5;241;43m.\u001b[39;49m\u001b[43mwindow_slices\u001b[49m\u001b[43m,\u001b[49m\n\u001b[1;32m    100\u001b[0m \u001b[43m        \u001b[49m\u001b[43m)\u001b[49m\n\u001b[1;32m    101\u001b[0m     )\n",
      "File \u001b[0;32m~/miniconda3/envs/pyt/lib/python3.12/site-packages/pyTrajectory/sliding_metrics/sliding_window.py:90\u001b[0m, in \u001b[0;36mapply_multiple_to_sliding_windows\u001b[0;34m(series, window_size, metric_funcs, window_slices)\u001b[0m\n\u001b[1;32m     88\u001b[0m     \u001b[38;5;28;01mfor\u001b[39;00m idx, window_slice \u001b[38;5;129;01min\u001b[39;00m \u001b[38;5;28menumerate\u001b[39m(window_slices):\n\u001b[1;32m     89\u001b[0m         \u001b[38;5;28;01mfor\u001b[39;00m metric_idx, metric_func \u001b[38;5;129;01min\u001b[39;00m \u001b[38;5;28menumerate\u001b[39m(metric_funcs):\n\u001b[0;32m---> 90\u001b[0m             sliding_metric \u001b[38;5;241m=\u001b[39m \u001b[43mmetric_func\u001b[49m\u001b[43m(\u001b[49m\u001b[43msliding_windows\u001b[49m\u001b[43m[\u001b[49m\u001b[38;5;241;43m.\u001b[39;49m\u001b[38;5;241;43m.\u001b[39;49m\u001b[38;5;241;43m.\u001b[39;49m\u001b[43m,\u001b[49m\u001b[43m \u001b[49m\u001b[43mwindow_slice\u001b[49m\u001b[43m]\u001b[49m\u001b[43m)\u001b[49m\n\u001b[1;32m     91\u001b[0m             sliding_metrics[\n\u001b[1;32m     92\u001b[0m                 \u001b[38;5;241m.\u001b[39m\u001b[38;5;241m.\u001b[39m\u001b[38;5;241m.\u001b[39m, idx : (idx \u001b[38;5;241m+\u001b[39m sliding_metric\u001b[38;5;241m.\u001b[39mshape[\u001b[38;5;241m-\u001b[39m\u001b[38;5;241m1\u001b[39m]), metric_idx\n\u001b[1;32m     93\u001b[0m             ] \u001b[38;5;241m=\u001b[39m sliding_metric\n\u001b[1;32m     94\u001b[0m \u001b[38;5;28;01melse\u001b[39;00m:\n",
      "File \u001b[0;32m~/miniconda3/envs/pyt/lib/python3.12/site-packages/pyTrajectory/sliding_metrics/sliding_window.py:111\u001b[0m, in \u001b[0;36mas_window_delta.<locals>.decorated\u001b[0;34m(array)\u001b[0m\n\u001b[1;32m    109\u001b[0m \u001b[38;5;28;01mdef\u001b[39;00m \u001b[38;5;21mdecorated\u001b[39m(array: NDArray) \u001b[38;5;241m-\u001b[39m\u001b[38;5;241m>\u001b[39m NDArray:\n\u001b[1;32m    110\u001b[0m     half_window_size \u001b[38;5;241m=\u001b[39m array\u001b[38;5;241m.\u001b[39mshape[\u001b[38;5;241m-\u001b[39m\u001b[38;5;241m1\u001b[39m] \u001b[38;5;241m/\u001b[39m\u001b[38;5;241m/\u001b[39m \u001b[38;5;241m2\u001b[39m\n\u001b[0;32m--> 111\u001b[0m     metric_first_half \u001b[38;5;241m=\u001b[39m \u001b[43mmetric_func\u001b[49m\u001b[43m(\u001b[49m\u001b[43marray\u001b[49m\u001b[43m[\u001b[49m\u001b[38;5;241;43m.\u001b[39;49m\u001b[38;5;241;43m.\u001b[39;49m\u001b[38;5;241;43m.\u001b[39;49m\u001b[43m,\u001b[49m\u001b[43m \u001b[49m\u001b[43m:\u001b[49m\u001b[43mhalf_window_size\u001b[49m\u001b[43m]\u001b[49m\u001b[43m)\u001b[49m\n\u001b[1;32m    112\u001b[0m     metric_second_half \u001b[38;5;241m=\u001b[39m metric_func(array[\u001b[38;5;241m.\u001b[39m\u001b[38;5;241m.\u001b[39m\u001b[38;5;241m.\u001b[39m, \u001b[38;5;241m-\u001b[39mhalf_window_size:])\n\u001b[1;32m    113\u001b[0m     \u001b[38;5;28;01mreturn\u001b[39;00m metric_second_half \u001b[38;5;241m-\u001b[39m metric_first_half\n",
      "File \u001b[0;32m~/miniconda3/envs/pyt/lib/python3.12/site-packages/pyTrajectory/sliding_metrics/metrics.py:12\u001b[0m, in \u001b[0;36mmedian\u001b[0;34m(array)\u001b[0m\n\u001b[1;32m     11\u001b[0m \u001b[38;5;28;01mdef\u001b[39;00m \u001b[38;5;21mmedian\u001b[39m(array: NDArray) \u001b[38;5;241m-\u001b[39m\u001b[38;5;241m>\u001b[39m NDArray:\n\u001b[0;32m---> 12\u001b[0m     \u001b[38;5;28;01mreturn\u001b[39;00m \u001b[43mnp\u001b[49m\u001b[38;5;241;43m.\u001b[39;49m\u001b[43mmedian\u001b[49m\u001b[43m(\u001b[49m\u001b[43marray\u001b[49m\u001b[43m,\u001b[49m\u001b[43m \u001b[49m\u001b[43maxis\u001b[49m\u001b[38;5;241;43m=\u001b[39;49m\u001b[38;5;241;43m-\u001b[39;49m\u001b[38;5;241;43m1\u001b[39;49m\u001b[43m,\u001b[49m\u001b[43m \u001b[49m\u001b[43mkeepdims\u001b[49m\u001b[38;5;241;43m=\u001b[39;49m\u001b[38;5;28;43;01mTrue\u001b[39;49;00m\u001b[43m)\u001b[49m\n",
      "File \u001b[0;32m~/miniconda3/envs/pyt/lib/python3.12/site-packages/numpy/lib/_function_base_impl.py:3876\u001b[0m, in \u001b[0;36mmedian\u001b[0;34m(a, axis, out, overwrite_input, keepdims)\u001b[0m\n\u001b[1;32m   3786\u001b[0m \u001b[38;5;129m@array_function_dispatch\u001b[39m(_median_dispatcher)\n\u001b[1;32m   3787\u001b[0m \u001b[38;5;28;01mdef\u001b[39;00m \u001b[38;5;21mmedian\u001b[39m(a, axis\u001b[38;5;241m=\u001b[39m\u001b[38;5;28;01mNone\u001b[39;00m, out\u001b[38;5;241m=\u001b[39m\u001b[38;5;28;01mNone\u001b[39;00m, overwrite_input\u001b[38;5;241m=\u001b[39m\u001b[38;5;28;01mFalse\u001b[39;00m, keepdims\u001b[38;5;241m=\u001b[39m\u001b[38;5;28;01mFalse\u001b[39;00m):\n\u001b[1;32m   3788\u001b[0m \u001b[38;5;250m    \u001b[39m\u001b[38;5;124;03m\"\"\"\u001b[39;00m\n\u001b[1;32m   3789\u001b[0m \u001b[38;5;124;03m    Compute the median along the specified axis.\u001b[39;00m\n\u001b[1;32m   3790\u001b[0m \n\u001b[0;32m   (...)\u001b[0m\n\u001b[1;32m   3874\u001b[0m \n\u001b[1;32m   3875\u001b[0m \u001b[38;5;124;03m    \"\"\"\u001b[39;00m\n\u001b[0;32m-> 3876\u001b[0m     \u001b[38;5;28;01mreturn\u001b[39;00m \u001b[43m_ureduce\u001b[49m\u001b[43m(\u001b[49m\u001b[43ma\u001b[49m\u001b[43m,\u001b[49m\u001b[43m \u001b[49m\u001b[43mfunc\u001b[49m\u001b[38;5;241;43m=\u001b[39;49m\u001b[43m_median\u001b[49m\u001b[43m,\u001b[49m\u001b[43m \u001b[49m\u001b[43mkeepdims\u001b[49m\u001b[38;5;241;43m=\u001b[39;49m\u001b[43mkeepdims\u001b[49m\u001b[43m,\u001b[49m\u001b[43m \u001b[49m\u001b[43maxis\u001b[49m\u001b[38;5;241;43m=\u001b[39;49m\u001b[43maxis\u001b[49m\u001b[43m,\u001b[49m\u001b[43m \u001b[49m\u001b[43mout\u001b[49m\u001b[38;5;241;43m=\u001b[39;49m\u001b[43mout\u001b[49m\u001b[43m,\u001b[49m\n\u001b[1;32m   3877\u001b[0m \u001b[43m                    \u001b[49m\u001b[43moverwrite_input\u001b[49m\u001b[38;5;241;43m=\u001b[39;49m\u001b[43moverwrite_input\u001b[49m\u001b[43m)\u001b[49m\n",
      "File \u001b[0;32m~/miniconda3/envs/pyt/lib/python3.12/site-packages/numpy/lib/_function_base_impl.py:3764\u001b[0m, in \u001b[0;36m_ureduce\u001b[0;34m(a, func, keepdims, **kwargs)\u001b[0m\n\u001b[1;32m   3761\u001b[0m             index_out \u001b[38;5;241m=\u001b[39m (\u001b[38;5;241m0\u001b[39m, ) \u001b[38;5;241m*\u001b[39m nd\n\u001b[1;32m   3762\u001b[0m             kwargs[\u001b[38;5;124m'\u001b[39m\u001b[38;5;124mout\u001b[39m\u001b[38;5;124m'\u001b[39m] \u001b[38;5;241m=\u001b[39m out[(\u001b[38;5;28mEllipsis\u001b[39m, ) \u001b[38;5;241m+\u001b[39m index_out]\n\u001b[0;32m-> 3764\u001b[0m r \u001b[38;5;241m=\u001b[39m \u001b[43mfunc\u001b[49m\u001b[43m(\u001b[49m\u001b[43ma\u001b[49m\u001b[43m,\u001b[49m\u001b[43m \u001b[49m\u001b[38;5;241;43m*\u001b[39;49m\u001b[38;5;241;43m*\u001b[39;49m\u001b[43mkwargs\u001b[49m\u001b[43m)\u001b[49m\n\u001b[1;32m   3766\u001b[0m \u001b[38;5;28;01mif\u001b[39;00m out \u001b[38;5;129;01mis\u001b[39;00m \u001b[38;5;129;01mnot\u001b[39;00m \u001b[38;5;28;01mNone\u001b[39;00m:\n\u001b[1;32m   3767\u001b[0m     \u001b[38;5;28;01mreturn\u001b[39;00m out\n",
      "File \u001b[0;32m~/miniconda3/envs/pyt/lib/python3.12/site-packages/numpy/lib/_function_base_impl.py:3909\u001b[0m, in \u001b[0;36m_median\u001b[0;34m(a, axis, out, overwrite_input)\u001b[0m\n\u001b[1;32m   3907\u001b[0m         part \u001b[38;5;241m=\u001b[39m a\n\u001b[1;32m   3908\u001b[0m \u001b[38;5;28;01melse\u001b[39;00m:\n\u001b[0;32m-> 3909\u001b[0m     part \u001b[38;5;241m=\u001b[39m \u001b[43mpartition\u001b[49m\u001b[43m(\u001b[49m\u001b[43ma\u001b[49m\u001b[43m,\u001b[49m\u001b[43m \u001b[49m\u001b[43mkth\u001b[49m\u001b[43m,\u001b[49m\u001b[43m \u001b[49m\u001b[43maxis\u001b[49m\u001b[38;5;241;43m=\u001b[39;49m\u001b[43maxis\u001b[49m\u001b[43m)\u001b[49m\n\u001b[1;32m   3911\u001b[0m \u001b[38;5;28;01mif\u001b[39;00m part\u001b[38;5;241m.\u001b[39mshape \u001b[38;5;241m==\u001b[39m ():\n\u001b[1;32m   3912\u001b[0m     \u001b[38;5;66;03m# make 0-D arrays work\u001b[39;00m\n\u001b[1;32m   3913\u001b[0m     \u001b[38;5;28;01mreturn\u001b[39;00m part\u001b[38;5;241m.\u001b[39mitem()\n",
      "File \u001b[0;32m~/miniconda3/envs/pyt/lib/python3.12/site-packages/numpy/_core/fromnumeric.py:820\u001b[0m, in \u001b[0;36mpartition\u001b[0;34m(a, kth, axis, kind, order)\u001b[0m\n\u001b[1;32m    818\u001b[0m \u001b[38;5;28;01melse\u001b[39;00m:\n\u001b[1;32m    819\u001b[0m     a \u001b[38;5;241m=\u001b[39m asanyarray(a)\u001b[38;5;241m.\u001b[39mcopy(order\u001b[38;5;241m=\u001b[39m\u001b[38;5;124m\"\u001b[39m\u001b[38;5;124mK\u001b[39m\u001b[38;5;124m\"\u001b[39m)\n\u001b[0;32m--> 820\u001b[0m \u001b[43ma\u001b[49m\u001b[38;5;241;43m.\u001b[39;49m\u001b[43mpartition\u001b[49m\u001b[43m(\u001b[49m\u001b[43mkth\u001b[49m\u001b[43m,\u001b[49m\u001b[43m \u001b[49m\u001b[43maxis\u001b[49m\u001b[38;5;241;43m=\u001b[39;49m\u001b[43maxis\u001b[49m\u001b[43m,\u001b[49m\u001b[43m \u001b[49m\u001b[43mkind\u001b[49m\u001b[38;5;241;43m=\u001b[39;49m\u001b[43mkind\u001b[49m\u001b[43m,\u001b[49m\u001b[43m \u001b[49m\u001b[43morder\u001b[49m\u001b[38;5;241;43m=\u001b[39;49m\u001b[43morder\u001b[49m\u001b[43m)\u001b[49m\n\u001b[1;32m    821\u001b[0m \u001b[38;5;28;01mreturn\u001b[39;00m a\n",
      "\u001b[0;31mKeyboardInterrupt\u001b[0m: "
     ]
    }
   ],
   "source": [
    "n_components = 500\n",
    "batch_size = 5000\n",
    "pca = IncrementalPCA(n_components=n_components, batch_size=batch_size).set_output(transform=\"pandas\")\n",
    "\n",
    "for dyad in tqdm(dyads_train):\n",
    "    if len(dyad.trajectory) < 60:\n",
    "        continue\n",
    "    dyad = dyad.sample(\n",
    "        extractor,\n",
    "        pipeline=pipeline,\n",
    "        fit_pipeline=False,\n",
    "    )\n",
    "    X_partial = dyad.dataset[0]\n",
    "    if len(X_partial) < n_components:\n",
    "        continue\n",
    "    pca.partial_fit(X_partial)\n",
    "    dyad.X = None\n",
    "    dyad.y = None"
   ]
  },
  {
   "cell_type": "code",
   "execution_count": 24,
   "id": "4d582b4e-bbab-4da1-a7e5-864bf1b8b9fb",
   "metadata": {},
   "outputs": [],
   "source": [
    "for dyad in dyads_train:\n",
    "    dyad.X = None\n",
    "    dyad.y = None\n",
    "    dyad.X_subsampled = None\n",
    "    dyad.y_subsampled = None"
   ]
  },
  {
   "cell_type": "code",
   "execution_count": 20,
   "id": "911e13ee-adc6-46b7-80d2-c17a30d2bb02",
   "metadata": {},
   "outputs": [
    {
     "data": {
      "text/plain": [
       "(507738, 2532)"
      ]
     },
     "execution_count": 20,
     "metadata": {},
     "output_type": "execute_result"
    }
   ],
   "source": [
    "X_train_aggregated.shape"
   ]
  },
  {
   "cell_type": "code",
   "execution_count": 21,
   "id": "4b1d1e2a-ff75-49bb-a438-5793a7436fc2",
   "metadata": {},
   "outputs": [],
   "source": [
    "X_train_aggregated.to_parquet(\"/media/paul/Data/X_train.parquet\")"
   ]
  },
  {
   "cell_type": "code",
   "execution_count": 22,
   "id": "5650547f-6504-4794-a070-3e0776c1f04e",
   "metadata": {},
   "outputs": [],
   "source": [
    "del X_train_aggregated"
   ]
  },
  {
   "cell_type": "code",
   "execution_count": 23,
   "id": "a5add7b8-3e52-42a5-a7d8-e960109c080b",
   "metadata": {},
   "outputs": [],
   "source": [
    "del X_train"
   ]
  },
  {
   "cell_type": "code",
   "execution_count": 19,
   "id": "b48c6bcf-ad5a-4549-8713-d0e01cbf738c",
   "metadata": {},
   "outputs": [],
   "source": [
    "from sklearn.decomposition import IncrementalPCA"
   ]
  },
  {
   "cell_type": "code",
   "execution_count": 25,
   "id": "e6459160-82cc-46ee-bc95-c3f00f033097",
   "metadata": {},
   "outputs": [
    {
     "ename": "NameError",
     "evalue": "name 'cumulative_ev' is not defined",
     "output_type": "error",
     "traceback": [
      "\u001b[0;31m---------------------------------------------------------------------------\u001b[0m",
      "\u001b[0;31mNameError\u001b[0m                                 Traceback (most recent call last)",
      "Cell \u001b[0;32mIn[25], line 1\u001b[0m\n\u001b[0;32m----> 1\u001b[0m \u001b[43mcumulative_ev\u001b[49m[\u001b[38;5;241m-\u001b[39m\u001b[38;5;241m1\u001b[39m]\n",
      "\u001b[0;31mNameError\u001b[0m: name 'cumulative_ev' is not defined"
     ]
    }
   ],
   "source": [
    "cumulative_ev[-1]"
   ]
  },
  {
   "cell_type": "code",
   "execution_count": 23,
   "id": "94d96656-0cee-4cdd-80cc-526b05607df5",
   "metadata": {},
   "outputs": [
    {
     "data": {
      "image/png": "[encoded data removed]",
      "text/plain": [
       "<Figure size 200x100 with 1 Axes>"
      ]
     },
     "metadata": {
      "image/png": {
       "height": 179,
       "width": 271
      }
     },
     "output_type": "display_data"
    }
   ],
   "source": [
    "import matplotlib.pyplot as plt\n",
    "\n",
    "fig = plt.figure(figsize=(2, 1))\n",
    "ax = fig.add_axes([0, 0, 1, 1])\n",
    "\n",
    "cumulative_ev = np.cumsum(pca.explained_variance_ratio_)\n",
    "cutoff = np.argmax(cumulative_ev > 0.95)\n",
    "\n",
    "ax.plot(cumulative_ev, c=\"k\")\n",
    "ax.axvline(cutoff, c=\"r\")\n",
    "\n",
    "data_to_axis = ax.transData + ax.transAxes.inverted()\n",
    "ax.text(data_to_axis.transform([cutoff, 1])[0], 1.05, cutoff, transform=ax.transAxes, ha=\"center\", c=\"r\")\n",
    "\n",
    "ax.spines[[\"right\", \"top\"]].set_visible(False)\n",
    "ax.set_ylabel(\"EV\")\n",
    "ax.set_xlabel(\"principal component\")\n",
    "plt.show()"
   ]
  },
  {
   "cell_type": "code",
   "execution_count": 43,
   "id": "d07c7294-9427-4fce-bde3-8a89c866e803",
   "metadata": {},
   "outputs": [
    {
     "data": {
      "text/plain": [
       "array([0.14071364, 0.11887644, 0.07653121, 0.06905653, 0.05665518,\n",
       "       0.0314556 , 0.02926619, 0.02160269, 0.01718032, 0.01561042,\n",
       "       0.01469786, 0.01437918, 0.01277727, 0.01073152, 0.01023261,\n",
       "       0.00923028, 0.00870113, 0.00786096, 0.00739705, 0.00711175,\n",
       "       0.00604436, 0.00545368, 0.00523566, 0.00516591, 0.00515258,\n",
       "       0.00472533, 0.00454299, 0.00436288, 0.00423723, 0.00415272,\n",
       "       0.00403992, 0.00399647, 0.00373831, 0.00363792, 0.00347962,\n",
       "       0.00330427, 0.00322826, 0.00311824, 0.00294527, 0.00291797,\n",
       "       0.00282749, 0.00277814, 0.00268113, 0.00259834, 0.00252425,\n",
       "       0.00245725, 0.00239487, 0.00231877, 0.0022613 , 0.00221655,\n",
       "       0.00216787, 0.00212845, 0.00204137, 0.00197859, 0.00196516,\n",
       "       0.00193952, 0.00190755, 0.00180933, 0.00176316, 0.0017185 ,\n",
       "       0.00170313, 0.001689  , 0.00164336, 0.00161808, 0.00157541,\n",
       "       0.00155429, 0.00150512, 0.00148864, 0.00147482, 0.00144533,\n",
       "       0.0014241 , 0.00140437, 0.00137785, 0.00134447, 0.00132585,\n",
       "       0.00125794, 0.0012373 , 0.00119784, 0.00117779, 0.00116568,\n",
       "       0.00115102, 0.00113012, 0.00111512, 0.00107027, 0.00105498,\n",
       "       0.00104537, 0.00102009, 0.00100337, 0.00099255, 0.00096826,\n",
       "       0.00095533, 0.00093614, 0.00091474, 0.00090001, 0.00089019,\n",
       "       0.00087422, 0.00086436, 0.00083743, 0.00082925, 0.00080345])"
      ]
     },
     "execution_count": 43,
     "metadata": {},
     "output_type": "execute_result"
    }
   ],
   "source": [
    "pca.explained_variance_ratio_"
   ]
  },
  {
   "cell_type": "code",
   "execution_count": 27,
   "id": "1bd77c35-02e5-45a1-837e-2fc4826253c7",
   "metadata": {},
   "outputs": [],
   "source": [
    "try:\n",
    "    del X_train\n",
    "    del y_train\n",
    "    \n",
    "    del X_test\n",
    "    del y_test\n",
    "except NameError:\n",
    "    pass"
   ]
  },
  {
   "cell_type": "code",
   "execution_count": null,
   "id": "d6f35682-5bf9-47c4-9242-fb0fe35836a9",
   "metadata": {},
   "outputs": [],
   "source": [
    "\n",
    "\n",
    "X_test = pd.concat([dataset[0] for dataset in datasets_test])\n",
    "y_test = np.concatenate([dataset[1] for dataset in datasets_test])\n",
    "\n",
    "del datasets_train\n",
    "del datasets_test"
   ]
  },
  {
   "cell_type": "code",
   "execution_count": null,
   "id": "b3495501-5e30-49e1-ad94-4b9cbb2c576d",
   "metadata": {},
   "outputs": [],
   "source": [
    "X_train.shape"
   ]
  },
  {
   "cell_type": "code",
   "execution_count": null,
   "id": "386c1119-5a88-4a8a-ad92-927faff6a828",
   "metadata": {},
   "outputs": [],
   "source": [
    "from sklearn.model_selection import train_test_split, GroupShuffleSplit"
   ]
  },
  {
   "cell_type": "code",
   "execution_count": null,
   "id": "d842050b-3243-4372-ab1f-192274891686",
   "metadata": {},
   "outputs": [],
   "source": [
    "from sklearn.metrics import confusion_matrix, f1_score\n",
    "from sklearn.preprocessing import LabelEncoder, OneHotEncoder"
   ]
  },
  {
   "cell_type": "code",
   "execution_count": null,
   "id": "10f9e469-108c-4c2d-9447-0e74c043bee6",
   "metadata": {},
   "outputs": [],
   "source": [
    "# groups = np.concatenate([np.repeat(idx, len(dataset[0])) for idx, dataset in enumerate(datasets_train)])"
   ]
  },
  {
   "cell_type": "code",
   "execution_count": null,
   "id": "4bbb902f-f962-431d-b94b-7a3b87252925",
   "metadata": {},
   "outputs": [],
   "source": [
    "# asoid = AsoidRandomForestClassifier(\n",
    "#     n_estimators=200,\n",
    "#     class_weight=\"balanced_subsample\",\n",
    "#     n_jobs=-1,\n",
    "# ).fit(X_train,\n",
    "#       encoder.transform(y_train.reshape(-1, 1)),\n",
    "#       groups=groups,\n",
    "#       num_iterations=10)"
   ]
  },
  {
   "cell_type": "code",
   "execution_count": null,
   "id": "8239fe18-7b1c-42b7-9409-2779707e8ddc",
   "metadata": {},
   "outputs": [],
   "source": [
    "# rfc = RandomForestClassifier(\n",
    "#     n_estimators=200,\n",
    "#     class_weight=\"balanced_subsample\",\n",
    "#     n_jobs=-1\n",
    "# ).fit(X_train, encoder.transform(y_train.reshape(-1, 1)))"
   ]
  },
  {
   "cell_type": "code",
   "execution_count": null,
   "id": "ad52e482-b67e-4dc6-989a-8cc34fc7ced6",
   "metadata": {},
   "outputs": [],
   "source": [
    "from xgboost import XGBClassifier"
   ]
  },
  {
   "cell_type": "code",
   "execution_count": null,
   "id": "4c2bbdc0-43f8-4ccb-bf2b-a135c2c80fc0",
   "metadata": {},
   "outputs": [],
   "source": [
    "from sklearn.utils.class_weight import compute_sample_weight"
   ]
  },
  {
   "cell_type": "code",
   "execution_count": null,
   "id": "488a7e62-adf7-44d3-bbcb-88d8e8558302",
   "metadata": {},
   "outputs": [],
   "source": [
    "# column_transformer = get_column_transformer(X_train.columns)\n",
    "# pca = IncrementalPCA(n_components=200, whiten=True)\n",
    "# classifier = RandomForestClassifier(n_estimators=200, class_weight=\"balanced_subsample\", n_jobs=-1, verbose=True)\n",
    "\n",
    "# pipeline = Pipeline(\n",
    "#     [\n",
    "#         # (\"transformer\", column_transformer),\n",
    "#         # (\"pca\", pca),\n",
    "#         (\"classifier\", classifier),\n",
    "#     ],\n",
    "#     verbose=True,\n",
    "# )\n",
    "# pipeline.set_output(transform=\"pandas\")"
   ]
  },
  {
   "cell_type": "code",
   "execution_count": null,
   "id": "230d1991-74a5-4ce6-8185-a7a2d68204ed",
   "metadata": {},
   "outputs": [],
   "source": [
    "encoder = OneHotEncoder(sparse_output=False).fit(y_train.reshape(-1, 1))"
   ]
  },
  {
   "cell_type": "code",
   "execution_count": null,
   "id": "b279bedd-44c0-4279-8c85-f007677bdb69",
   "metadata": {},
   "outputs": [],
   "source": [
    "from sklearn.ensemble import RandomForestClassifier"
   ]
  },
  {
   "cell_type": "code",
   "execution_count": null,
   "id": "addadf8b-40d8-441f-863e-a858f98c7d2f",
   "metadata": {},
   "outputs": [],
   "source": [
    "import matplotlib.pyplot as plt\n",
    "\n",
    "def plot_confusion_matrix(y_true, y_pred, category_labels):\n",
    "    cm = confusion_matrix(y_true, y_pred)\n",
    "    cm_prob = (cm.T / cm.sum(axis=1)).T\n",
    "    \n",
    "    fig = plt.figure(figsize=(3, 3), dpi=100)\n",
    "    axes = fig.subplots(1, 2, width_ratios=[20, 1])\n",
    "    mappable = axes[0].matshow(cm_prob, vmin=0, vmax=1)\n",
    "    grid = np.indices(cm_prob.shape)\n",
    "    for row_idx, col_idx in zip(grid[0].ravel(), grid[1].ravel()):\n",
    "        axes[0].text(\n",
    "            col_idx,\n",
    "            row_idx,\n",
    "            f\"{cm_prob[row_idx, col_idx]:.2f}\\n({cm[row_idx, col_idx]})\",\n",
    "            ha=\"center\",\n",
    "            va=\"center\",\n",
    "            c=\"k\" if cm_prob[row_idx, col_idx] > 0.5 else \"w\",\n",
    "            fontsize=8,\n",
    "        )\n",
    "    \n",
    "    plt.colorbar(mappable, cax=axes[1])\n",
    "    \n",
    "    axes[0].set_yticks(range(len(category_labels)))\n",
    "    axes[0].set_yticklabels(category_labels, rotation=90, va=\"center\")\n",
    "    axes[0].set_ylabel(\"Annotated\")\n",
    "    \n",
    "    axes[0].set_xticks(range(len(category_labels)))\n",
    "    axes[0].set_xticklabels(category_labels)\n",
    "    axes[0].set_xlabel(\"Predicted\")\n",
    "    \n",
    "    axes[0].xaxis.set_ticks_position(\"bottom\")\n",
    "    axes[1].yaxis.set_ticks_position(\"right\")\n",
    "    \n",
    "    bbox = axes[0].get_position()\n",
    "    bbox_cbar = axes[1].get_position()\n",
    "    bbox_cbar.intervaly = bbox.intervaly\n",
    "    axes[1].set_position(bbox_cbar)\n",
    "    plt.show()"
   ]
  },
  {
   "cell_type": "code",
   "execution_count": null,
   "id": "f063a16f-d9c5-4694-a9a5-26d37ac409cc",
   "metadata": {},
   "outputs": [],
   "source": [
    "rfc = RandomForestClassifier(\n",
    "    n_estimators=200,\n",
    "    class_weight=\"balanced_subsample\",\n",
    "    n_jobs=-1,\n",
    ").fit(\n",
    "    X_train,\n",
    "    encoder.transform(y_train.reshape(-1, 1)),\n",
    ")"
   ]
  },
  {
   "cell_type": "code",
   "execution_count": null,
   "id": "82f0bfda-8a7c-494c-8884-7f9e1cb51f14",
   "metadata": {},
   "outputs": [],
   "source": [
    "y_pred = rfc.predict(X_test)\n",
    "y_pred_categorical = np.argmax(y_pred, axis=1)\n",
    "y_test_categorical = np.argmax(encoder.transform(y_test.reshape(-1, 1)), axis=1)\n",
    "\n",
    "plot_confusion_matrix(y_test_categorical, y_pred_categorical, [\"att\", \"inv\", \"mnt\", \"none\"])"
   ]
  },
  {
   "cell_type": "code",
   "execution_count": null,
   "id": "35a8442d-8c40-4156-b8fb-d1a0f3ed81c1",
   "metadata": {},
   "outputs": [],
   "source": [
    "from scipy.cluster import hierarchy\n",
    "from scipy.spatial.distance import squareform\n",
    "from scipy.stats import spearmanr\n",
    "\n",
    "fig, (ax1, ax2) = plt.subplots(1, 2, figsize=(10, 3), dpi=100, width_ratios=[4, 1])\n",
    "corr = spearmanr(X_train).correlation\n",
    "\n",
    "# Ensure the correlation matrix is symmetric\n",
    "corr = (corr + corr.T) / 2\n",
    "np.fill_diagonal(corr, 1)\n",
    "\n",
    "# We convert the correlation matrix to a distance matrix before performing\n",
    "# hierarchical clustering using Ward's linkage.\n",
    "distance_matrix = 1 - np.abs(corr)\n",
    "dist_linkage = hierarchy.ward(squareform(distance_matrix))\n",
    "dendro = hierarchy.dendrogram(\n",
    "    dist_linkage, labels=X_train.columns.to_list(), ax=ax1, leaf_rotation=90, color_threshold=1.0,\n",
    ")\n",
    "ax1.set_xticks([])\n",
    "\n",
    "dendro_idx = np.arange(0, len(dendro[\"ivl\"]))\n",
    "\n",
    "ax2.imshow(corr[dendro[\"leaves\"], :][:, dendro[\"leaves\"]])\n",
    "ax2.set_xticks([])  # \n",
    "ax2.set_yticks([])  # \n",
    "# ax2.set_xticklabels(dendro[\"ivl\"], rotation=\"vertical\")\n",
    "# ax2.set_yticklabels(dendro[\"ivl\"])\n",
    "fig.tight_layout()\n",
    "plt.show()"
   ]
  },
  {
   "cell_type": "code",
   "execution_count": null,
   "id": "736de373-8dc6-4f7f-9967-71749c320c84",
   "metadata": {},
   "outputs": [],
   "source": [
    "cluster_ids = hierarchy.fcluster(dist_linkage, 1.0, criterion=\"distance\")\n",
    "np.unique(cluster_ids, return_counts=True)[1]"
   ]
  },
  {
   "cell_type": "code",
   "execution_count": null,
   "id": "dafc14e6-2ea0-42c5-ad2d-104f60839d44",
   "metadata": {},
   "outputs": [],
   "source": [
    "from collections import defaultdict\n",
    "\n",
    "cluster_id_to_feature_ids = defaultdict(list)\n",
    "for idx, cluster_id in enumerate(cluster_ids):\n",
    "    cluster_id_to_feature_ids[cluster_id].append(idx)\n",
    "\n",
    "results = []\n",
    "for idx in tqdm(range(max([len(v) for v in cluster_id_to_feature_ids.values()]))):\n",
    "\n",
    "    selected_features = [(v[idx] if idx < len(v) else np.random.choice(v)) for v in cluster_id_to_feature_ids.values()]\n",
    "    selected_features_names = X_train.columns[selected_features]\n",
    "    \n",
    "    X_train_sel = X_train[selected_features_names]\n",
    "    X_test_sel = X_test[selected_features_names]\n",
    "    \n",
    "    clf_sel = RandomForestClassifier(n_estimators=200, n_jobs=-1, class_weight=\"balanced_subsample\")\n",
    "    clf_sel.fit(X_train_sel, encoder.transform(y_train.reshape(-1, 1)))\n",
    "\n",
    "    # y_pred = clf_sel.predict(X_test_sel)\n",
    "    # y_pred_categorical = np.argmax(y_pred, axis=1)\n",
    "    # y_test_categorical = np.argmax(encoder.transform(y_test.reshape(-1, 1)), axis=1)\n",
    "    \n",
    "    # plot_confusion_matrix(y_test_categorical, y_pred_categorical, [\"att\", \"inv\", \"mnt\", \"none\"])\n",
    "\n",
    "    result = permutation_importance(\n",
    "        clf_sel,\n",
    "        X_test_sel,\n",
    "        encoder.transform(y_test.reshape(-1, 1)),\n",
    "        sample_weight=compute_sample_weight(\"balanced\", encoder.transform(y_test.reshape(-1, 1))),\n",
    "        n_repeats=10,\n",
    "        n_jobs=1,\n",
    "    )\n",
    "    result[\"selection\"] = np.asarray(X_train_sel.columns)\n",
    "    results.append(result)"
   ]
  },
  {
   "cell_type": "code",
   "execution_count": null,
   "id": "080c0909-f0f5-4f2a-a62f-6294f2a11a09",
   "metadata": {},
   "outputs": [],
   "source": [
    "import _pickle\n",
    "\n",
    "with open(\"feature_importances.pkl\", \"wb\") as fid:\n",
    "    _pickle.dump(results, fid)"
   ]
  },
  {
   "cell_type": "code",
   "execution_count": null,
   "id": "5e25d260-18da-4c84-a747-8ac175a1f1b4",
   "metadata": {},
   "outputs": [],
   "source": [
    "feature_importance = pd.concat([pd.DataFrame(result[\"importances\"].T, columns=result[\"selection\"]) for result in results], axis=0).aggregate(np.nanmean, axis=0)"
   ]
  },
  {
   "cell_type": "code",
   "execution_count": null,
   "id": "19c3b7f9-b133-4166-80c1-8e4e1bfe7031",
   "metadata": {},
   "outputs": [],
   "source": [
    "features_sort_idx = np.asarray([np.argmax(rfc.feature_names_in_ == name) for name in feature_importance.index])"
   ]
  },
  {
   "cell_type": "code",
   "execution_count": null,
   "id": "66ad3fad-e2a5-43b1-936c-1cb1c72cd3e9",
   "metadata": {},
   "outputs": [],
   "source": [
    "from matplotlib.colors import to_rgba_array"
   ]
  },
  {
   "cell_type": "code",
   "execution_count": null,
   "id": "17f11cc2-943d-4a9b-9dc2-b8e91c9850a1",
   "metadata": {},
   "outputs": [],
   "source": [
    "feature_importance.index"
   ]
  },
  {
   "cell_type": "code",
   "execution_count": null,
   "id": "417eca44-67eb-46e0-891c-e24361818c82",
   "metadata": {},
   "outputs": [],
   "source": [
    "is_distance = np.asarray([(\"keypoint_distances\" in name) for name in feature_importance.index[np.argsort(feature_importance)]])\n",
    "is_speed_5 = np.asarray([(\"speed_t[5]\" in name) for name in feature_importance.index[np.argsort(feature_importance)]])\n",
    "is_speed_15 = np.asarray([(\"speed_t[15]\" in name) for name in feature_importance.index[np.argsort(feature_importance)]])\n",
    "is_speed_30 = np.asarray([(\"speed_t[30]\" in name) for name in feature_importance.index[np.argsort(feature_importance)]])\n",
    "is_target_velocity_5_proj = np.asarray([(\"target_velocity_t[5]\" in name and \"-proj\" in name) for name in feature_importance.index[np.argsort(feature_importance)]])\n",
    "is_target_velocity_5_rej = np.asarray([(\"target_velocity_t[5]\" in name and \"-rej\" in name) for name in feature_importance.index[np.argsort(feature_importance)]])\n",
    "is_target_velocity_15_proj = np.asarray([(\"target_velocity_t[15]\" in name and \"-proj\" in name) for name in feature_importance.index[np.argsort(feature_importance)]])\n",
    "is_target_velocity_15_rej = np.asarray([(\"target_velocity_t[15]\" in name and \"-rej\" in name) for name in feature_importance.index[np.argsort(feature_importance)]])\n",
    "is_target_velocity_30_proj = np.asarray([(\"target_velocity_t[30]\" in name and \"-proj\" in name) for name in feature_importance.index[np.argsort(feature_importance)]])\n",
    "is_target_velocity_30_rej = np.asarray([(\"target_velocity_t[30]\" in name and \"-rej\" in name) for name in feature_importance.index[np.argsort(feature_importance)]])\n",
    "is_projected_velocity_5_proj = np.asarray([(\"projected_velocity_t[5]\" in name and \"-proj\" in name) for name in feature_importance.index[np.argsort(feature_importance)]])\n",
    "is_projected_velocity_5_rej = np.asarray([(\"projected_velocity_t[5]\" in name and \"-rej\" in name) for name in feature_importance.index[np.argsort(feature_importance)]])\n",
    "is_projected_velocity_15_proj = np.asarray([(\"projected_velocity_t[15]\" in name and \"-proj\" in name) for name in feature_importance.index[np.argsort(feature_importance)]])\n",
    "is_projected_velocity_15_rej = np.asarray([(\"projected_velocity_t[15]\" in name and \"-rej\" in name) for name in feature_importance.index[np.argsort(feature_importance)]])\n",
    "is_projected_velocity_30_proj = np.asarray([(\"projected_velocity_t[30]\" in name and \"-proj\" in name) for name in feature_importance.index[np.argsort(feature_importance)]])\n",
    "is_projected_velocity_30_rej = np.asarray([(\"projected_velocity_t[30]\" in name and \"-rej\" in name) for name in feature_importance.index[np.argsort(feature_importance)]])\n",
    "is_orientation_change_5 = np.asarray([(\"orientation_change_t[5]\" in name) for name in feature_importance.index[np.argsort(feature_importance)]])\n",
    "is_orientation_change_15 = np.asarray([(\"orientation_change_t[15]\" in name) for name in feature_importance.index[np.argsort(feature_importance)]])\n",
    "is_orientation_change_30 = np.asarray([(\"orientation_change_t[30]\" in name) for name in feature_importance.index[np.argsort(feature_importance)]])\n",
    "is_posture_angles = np.asarray([(\"posture_angles\" in name) for name in feature_importance.index[np.argsort(feature_importance)]])\n",
    "is_target_angles = np.asarray([(\"target_angles\" in name) for name in feature_importance.index[np.argsort(feature_importance)]])\n",
    "is_posture_alignment = np.asarray([(\"posture_alignment\" in name) for name in feature_importance.index[np.argsort(feature_importance)]])"
   ]
  },
  {
   "cell_type": "code",
   "execution_count": null,
   "id": "9184fc36-dd0f-4ce1-a017-340cf673eb2c",
   "metadata": {},
   "outputs": [],
   "source": [
    "feature_type = np.transpose(\n",
    "    [\n",
    "        is_distance,\n",
    "        is_speed_5,\n",
    "        is_speed_15,\n",
    "        is_speed_30,\n",
    "        is_target_velocity_5_proj,\n",
    "        is_target_velocity_5_rej,\n",
    "        is_target_velocity_15_proj,\n",
    "        is_target_velocity_15_rej,\n",
    "        is_target_velocity_30_proj,\n",
    "        is_target_velocity_30_rej,\n",
    "        is_projected_velocity_5_proj,\n",
    "        is_projected_velocity_5_rej,\n",
    "        is_projected_velocity_15_proj,\n",
    "        is_projected_velocity_15_rej,\n",
    "        is_projected_velocity_30_proj,\n",
    "        is_projected_velocity_30_rej,\n",
    "        is_orientation_change_5,\n",
    "        is_orientation_change_15,\n",
    "        is_orientation_change_30,\n",
    "        is_posture_angles,\n",
    "        is_target_angles,\n",
    "        is_posture_alignment,\n",
    "    ]\n",
    ").argmax(axis=1)"
   ]
  },
  {
   "cell_type": "code",
   "execution_count": null,
   "id": "73e26ed2-d738-481d-b4a7-005bb4edc6b3",
   "metadata": {},
   "outputs": [],
   "source": [
    "colors = to_rgba_array([\"red\", \"black\"])"
   ]
  },
  {
   "cell_type": "code",
   "execution_count": null,
   "id": "8a3b793a-a2b0-40b3-8e82-e6f62601e102",
   "metadata": {},
   "outputs": [],
   "source": [
    "fig, axes = plt.subplots(1, 3, figsize=(10, 10), dpi=100, sharey=True, gridspec_kw=dict(wspace=0))\n",
    "\n",
    "ticks = np.arange(feature_importance.shape[0])\n",
    "axes[1].barh(\n",
    "    y=ticks,\n",
    "    width=np.asarray(feature_importance)[np.argsort(feature_importance)],\n",
    ")\n",
    "\n",
    "axes[0].barh(\n",
    "    y=ticks,\n",
    "    width=-rfc.feature_importances_[features_sort_idx],\n",
    ")\n",
    "\n",
    "for _feature_type in np.unique(feature_type):\n",
    "    _y = np.argwhere(feature_type == _feature_type).ravel()\n",
    "    axes[2].boxplot([_y], positions=[_feature_type], widths=0.8)\n",
    "\n",
    "# plt.gca().set_yticks(ticks * 2)\n",
    "# plt.gca().set_yticklabels(feature_importance.index[np.argsort(feature_importance)], fontsize=8)\n",
    "\n",
    "axes[0].set_yticks([])\n",
    "axes[1].set_xticks(axes[1].get_xticks()[1:])\n",
    "axes[0].axvline(0, c=\"k\")\n",
    "axes[1].axvline(0, c=\"k\")\n",
    "axes[0].spines[[\"left\", \"right\", \"top\"]].set_visible(False)\n",
    "axes[1].spines[[\"left\", \"right\", \"top\"]].set_visible(False)\n",
    "\n",
    "plt.show()"
   ]
  },
  {
   "cell_type": "code",
   "execution_count": null,
   "id": "f9898948-124a-4a52-8f09-4baa49465ff0",
   "metadata": {},
   "outputs": [],
   "source": [
    "# prop_cycle = plt.rcParams['axes.prop_cycle']\n",
    "# colors = prop_cycle.by_key()['color']"
   ]
  },
  {
   "cell_type": "code",
   "execution_count": null,
   "id": "f3616808-fdb9-4775-9947-52922050f64e",
   "metadata": {},
   "outputs": [],
   "source": [
    "# ticks = np.arange(rfc.feature_importances_.shape[0])\n",
    "# plt.barh(\n",
    "#     y=ticks,\n",
    "#     width=rfc.feature_importances_[np.argsort(rfc.feature_importances_)],\n",
    "#     color=np.asarray(colors)[cluster_ids[np.argsort(rfc.feature_importances_)].astype(int)]\n",
    "# )\n",
    "# # plt.gca().set_yticks(ticks)\n",
    "# # plt.gca().set_yticklabels(rfc.feature_names_in_[np.argsort(rfc.feature_importances_)], fontsize=8)\n",
    "# plt.show()"
   ]
  },
  {
   "cell_type": "code",
   "execution_count": null,
   "id": "1e671f0d-7356-40d1-a89c-ef4dc1cd3fa9",
   "metadata": {},
   "outputs": [],
   "source": [
    "fig, ax = plt.subplots(figsize=(3, 3), dpi=100)\n",
    "\n",
    "# result = permutation_importance(\n",
    "#     clf_sel,\n",
    "#     X_test_sel,\n",
    "#     encoder.transform(y_test.reshape(-1, 1)),\n",
    "#     sample_weight=compute_sample_weight(\"balanced\", encoder.transform(y_test.reshape(-1, 1))),\n",
    "#     n_repeats=10,\n",
    "#     random_state=42,\n",
    "#     n_jobs=2,\n",
    "# )\n",
    "# perm_sorted_idx = result.importances_mean.argsort()\n",
    "\n",
    "ax.boxplot(\n",
    "    result.importances[perm_sorted_idx].T,\n",
    "    vert=False,\n",
    "    tick_labels=X_train.columns[perm_sorted_idx],\n",
    ")\n",
    "ax.axvline(x=0, color=\"k\", linestyle=\"--\")\n",
    "\n",
    "# ax.set_title(\"Permutation Importances on selected subset of features\\n(test set)\")\n",
    "# ax.set_xlabel(\"Decrease in accuracy score\")\n",
    "# ax.figure.tight_layout()\n",
    "plt.show()"
   ]
  },
  {
   "cell_type": "code",
   "execution_count": null,
   "id": "aea2200e-4a00-4076-a3ec-05596fcb09b3",
   "metadata": {},
   "outputs": [],
   "source": [
    "plt.bar(np.arange(forest_importances.shape[0]), forest_importances)\n",
    "plt.show()"
   ]
  },
  {
   "cell_type": "code",
   "execution_count": null,
   "id": "37598a57-ff4d-442f-b13f-a04e1578f1b6",
   "metadata": {},
   "outputs": [],
   "source": [
    "plt.bar(np.arange(rfc.feature_importances_.shape[0]), rfc.feature_importances_)\n",
    "plt.show()"
   ]
  },
  {
   "cell_type": "code",
   "execution_count": null,
   "id": "5417ad6b-043f-4a13-ba12-aff8730ac9fe",
   "metadata": {},
   "outputs": [],
   "source": [
    "X_train.columns[np.argsort(rfc.feature_importances_)[::-1]]"
   ]
  },
  {
   "cell_type": "code",
   "execution_count": null,
   "id": "1fb7c83b-4afb-427d-b06b-e4dbe33050f8",
   "metadata": {},
   "outputs": [],
   "source": [
    "plt.scatter(rfc.feature_importances_, forest_importances)"
   ]
  },
  {
   "cell_type": "code",
   "execution_count": null,
   "id": "6f45f8ed-75bd-470f-814c-05274a1ac098",
   "metadata": {},
   "outputs": [],
   "source": [
    "encoder = OneHotEncoder(sparse_output=False).fit(y_train.reshape(-1, 1))\n",
    "xgbc = XGBClassifier(\n",
    "    n_estimators=1000,\n",
    "    device=\"cuda\",\n",
    "    tree_method=\"hist\",\n",
    "    sampling_method=\"gradient_based\",\n",
    "    subsample=0.25).fit(\n",
    "        np.asarray(X_train),\n",
    "        encoder.transform(y_train.reshape(-1, 1)),\n",
    "        sample_weight=compute_sample_weight(\"balanced\", encoder.transform(y_train.reshape(-1, 1))),\n",
    ")"
   ]
  },
  {
   "cell_type": "code",
   "execution_count": null,
   "id": "d0fa6fa5-d8f9-4d30-a557-6ab51747cbd8",
   "metadata": {},
   "outputs": [],
   "source": [
    "y_pred = xgbc.predict(X_test)\n",
    "y_pred_categorical = np.argmax(y_pred, axis=1)\n",
    "y_test_categorical = np.argmax(encoder.transform(y_test.reshape(-1, 1)), axis=1)"
   ]
  },
  {
   "cell_type": "code",
   "execution_count": null,
   "id": "3d6d8a91-c8c3-4f73-8da0-1d9821e743c0",
   "metadata": {},
   "outputs": [],
   "source": [
    "from sklearn.metrics import confusion_matrix, f1_score\n",
    "\n",
    "f1_score(y_test_categorical, y_pred_categorical, average=None), \\\n",
    "f1_score(y_test_categorical, y_pred_categorical, average=\"weighted\"), \\\n",
    "f1_score(y_test_categorical, y_pred_categorical, average=\"micro\")"
   ]
  },
  {
   "cell_type": "code",
   "execution_count": null,
   "id": "5fdebb4b-df26-4a88-9f64-317a3729ee4e",
   "metadata": {},
   "outputs": [],
   "source": [
    "(array([0.55795349, 0.82815033, 0.91785305, 0.94903353]),\n",
    " np.float64(0.898140213663493),\n",
    " np.float64(0.8919067403770216))"
   ]
  },
  {
   "cell_type": "code",
   "execution_count": null,
   "id": "74d508c0-edc2-4173-859f-eb2ccd1ffa2f",
   "metadata": {},
   "outputs": [],
   "source": [
    "pd.DataFrame(\n",
    "    {\n",
    "        \"category\": encoder.categories_[0],\n",
    "        \"f1_score\": [\n",
    "            f1_score(y_test_categorical == category, y_pred_categorical == category)\n",
    "            for category in range(4)\n",
    "        ],\n",
    "    }\n",
    ")"
   ]
  },
  {
   "cell_type": "code",
   "execution_count": null,
   "id": "62155bfa-fa3f-47d5-bd2a-8e1583a437c6",
   "metadata": {},
   "outputs": [],
   "source": [
    "import matplotlib.pyplot as plt"
   ]
  },
  {
   "cell_type": "code",
   "execution_count": null,
   "id": "9bb14eb3-27f8-4cc9-8358-5fdfe5646910",
   "metadata": {},
   "outputs": [],
   "source": [
    "labels = [\"att\", \"inv\", \"mnt\", \"none\"]\n",
    "\n",
    "cm = confusion_matrix(y_test_categorical, y_pred_categorical)\n",
    "cm_prob = (cm.T / cm.sum(axis=1)).T\n",
    "\n",
    "fig = plt.figure(figsize=(3, 3), dpi=100)\n",
    "axes = fig.subplots(1, 2, width_ratios=[20, 1])\n",
    "mappable = axes[0].matshow(cm_prob, vmin=0, vmax=1)\n",
    "grid = np.indices(cm_prob.shape)\n",
    "for row_idx, col_idx in zip(grid[0].ravel(), grid[1].ravel()):\n",
    "    axes[0].text(\n",
    "        col_idx,\n",
    "        row_idx,\n",
    "        f\"{cm_prob[row_idx, col_idx]:.2f}\\n({cm[row_idx, col_idx]})\",\n",
    "        ha=\"center\",\n",
    "        va=\"center\",\n",
    "        c=\"k\" if cm_prob[row_idx, col_idx] > 0.5 else \"w\",\n",
    "        fontsize=8,\n",
    "    )\n",
    "\n",
    "plt.colorbar(mappable, cax=axes[1])\n",
    "\n",
    "axes[0].set_yticks(range(len(labels)))\n",
    "axes[0].set_yticklabels(labels, rotation=90, va=\"center\")\n",
    "axes[0].set_ylabel(\"True\")\n",
    "\n",
    "axes[0].set_xticks(range(len(labels)))\n",
    "axes[0].set_xticklabels(labels)\n",
    "axes[0].set_xlabel(\"Predicted\")\n",
    "\n",
    "axes[0].xaxis.set_ticks_position(\"bottom\")\n",
    "axes[1].yaxis.set_ticks_position(\"right\")\n",
    "\n",
    "bbox = axes[0].get_position()\n",
    "bbox_cbar = axes[1].get_position()\n",
    "bbox_cbar.intervaly = bbox.intervaly\n",
    "axes[1].set_position(bbox_cbar)"
   ]
  },
  {
   "cell_type": "code",
   "execution_count": null,
   "id": "818117ec-bcf5-4cf4-b0dc-940530cc9beb",
   "metadata": {},
   "outputs": [],
   "source": [
    "cm = confusion_matrix(y_test_categorical, y_pred_categorical)\n",
    "cm_prob = (cm.T / cm.sum(axis=1)).T\n",
    "\n",
    "fig = plt.figure(figsize=(3, 3), dpi=100)\n",
    "axes = fig.subplots(1, 2, width_ratios=[20, 1])\n",
    "mappable = axes[0].matshow(cm_prob, vmin=0, vmax=1)\n",
    "grid = np.indices(cm_prob.shape)\n",
    "for row_idx, col_idx in zip(grid[0].ravel(), grid[1].ravel()):\n",
    "    axes[0].text(\n",
    "        col_idx,\n",
    "        row_idx,\n",
    "        f\"{cm_prob[row_idx, col_idx]:.2f}\\n({cm[row_idx, col_idx]})\",\n",
    "        ha=\"center\",\n",
    "        va=\"center\",\n",
    "        c=\"k\" if cm_prob[row_idx, col_idx] > 0.5 else \"w\",\n",
    "        fontsize=8,\n",
    "    )\n",
    "\n",
    "plt.colorbar(mappable, cax=axes[1])\n",
    "\n",
    "axes[0].xaxis.set_ticks_position(\"bottom\")\n",
    "axes[1].yaxis.set_ticks_position(\"right\")\n",
    "\n",
    "bbox = axes[0].get_position()\n",
    "bbox_cbar = axes[1].get_position()\n",
    "bbox_cbar.intervaly = bbox.intervaly\n",
    "axes[1].set_position(bbox_cbar)"
   ]
  },
  {
   "cell_type": "code",
   "execution_count": null,
   "id": "0006d95a-c84b-4c2e-9b51-706ee5b02b55",
   "metadata": {},
   "outputs": [],
   "source": [
    "def _load_sav(path, name, filename):\n",
    "    \"\"\"just a simplification for all those load functions\"\"\"\n",
    "    with open(os.path.join(path, name, filename), 'rb') as fr:\n",
    "        data = joblib.load(fr)\n",
    "    return data"
   ]
  },
  {
   "cell_type": "code",
   "execution_count": null,
   "id": "91922ec7-4216-481e-918c-db47a94c02d1",
   "metadata": {},
   "outputs": [],
   "source": [
    "import joblib\n",
    "from pprint import pprint"
   ]
  },
  {
   "cell_type": "code",
   "execution_count": null,
   "id": "f7c5da0c-9708-4d54-8605-0fbff2b1469a",
   "metadata": {},
   "outputs": [],
   "source": [
    "with open(\"/home/paul/Desktop/asoid_output1/Aug-21-2024/data.sav\", 'rb') as fr:\n",
    "    data = joblib.load(fr)\n",
    "pprint(len(data))\n",
    "pprint(len(data[0]))\n",
    "pprint([a.shape for a in data[0]], compact=True)\n",
    "pprint([a.shape for a in data[1]], compact=True)"
   ]
  },
  {
   "cell_type": "code",
   "execution_count": null,
   "id": "d793b57d-ae93-4ce5-a010-523fea498d1c",
   "metadata": {},
   "outputs": [],
   "source": [
    "with open(\"/home/paul/Desktop/asoid_output1/Aug-21-2024/iteration-0/feats_targets.sav\", 'rb') as fr:\n",
    "    data = joblib.load(fr)\n",
    "    pprint(data[0].shape)\n",
    "    pprint(data[1].shape)\n",
    "    pprint(data[2])"
   ]
  },
  {
   "cell_type": "code",
   "execution_count": null,
   "id": "7b4fc833-4924-43f0-8ae3-6bede4fc53f4",
   "metadata": {},
   "outputs": [],
   "source": [
    "data"
   ]
  },
  {
   "cell_type": "code",
   "execution_count": null,
   "id": "794ee0e5-e203-4eb3-903e-167373d884f4",
   "metadata": {},
   "outputs": [],
   "source": [
    "# import matplotlib.pyplot as plt\n",
    "\n",
    "# fig = plt.figure(figsize=(2, 1))\n",
    "# ax = fig.add_axes([0, 0, 1, 1])\n",
    "\n",
    "# cumulative_ev = np.cumsum(feature_extraction_pipeline[\"pca\"].explained_variance_ratio_)\n",
    "# cutoff = np.argmax(cumulative_ev > 0.99)\n",
    "\n",
    "# ax.plot(cumulative_ev, c=\"k\")\n",
    "# ax.axvline(cutoff, c=\"r\")\n",
    "\n",
    "# data_to_axis = ax.transData + ax.transAxes.inverted()\n",
    "# ax.text(data_to_axis.transform([cutoff, 1])[0], 1.05, cutoff, transform=ax.transAxes, ha=\"center\", c=\"r\")\n",
    "\n",
    "# ax.spines[[\"right\", \"top\"]].set_visible(False)\n",
    "# ax.set_ylabel(\"EV\")\n",
    "# ax.set_xlabel(\"principal component\")\n",
    "# plt.show()"
   ]
  },
  {
   "cell_type": "code",
   "execution_count": null,
   "id": "11bbe46c-526d-42d6-9777-091a187a7a4a",
   "metadata": {},
   "outputs": [],
   "source": [
    "# (\"transformer\", transformer),\n",
    "# (\"pca\", PCA(whiten=True)),"
   ]
  },
  {
   "cell_type": "code",
   "execution_count": null,
   "id": "ff366d60-0f63-41a6-95cf-72a9808926e4",
   "metadata": {},
   "outputs": [],
   "source": [
    "transformed_samples.to_numpy().nbytes / (1024 ** 3)"
   ]
  },
  {
   "cell_type": "code",
   "execution_count": null,
   "id": "a7172ee8-76de-47ff-9f48-5364ea813a56",
   "metadata": {},
   "outputs": [],
   "source": [
    "# import matplotlib.pyplot as plt\n",
    "\n",
    "# fig = plt.figure(figsize=(2, 1))\n",
    "# ax = fig.add_axes([0, 0, 1, 1])\n",
    "\n",
    "# ax.hist(np.log(durations), bins=15, color=\"lightgray\", ec=\"darkgray\", lw=0.5)\n",
    "\n",
    "# data_to_axis = ax.transData + ax.transAxes.inverted()\n",
    "# for scale in ptsm.get_window_slices(3, durations=durations, time_scale_quantiles=[0.1, 0.5, 0.9])[0]:\n",
    "#     ax.axvline(np.log(scale), c=\"r\")\n",
    "#     ax.text(data_to_axis.transform([np.log(scale), 1])[0], 1.05, scale, transform=ax.transAxes, ha=\"center\", c=\"r\")\n",
    "\n",
    "# ax.spines[[\"right\", \"top\"]].set_visible(False)\n",
    "# ax.set_ylabel(\"count\")\n",
    "# ax.set_xlabel(\"log(duration)\")\n",
    "# plt.show()"
   ]
  },
  {
   "cell_type": "code",
   "execution_count": null,
   "id": "5d2babb8-c11e-4b9b-8b88-05d601c047a1",
   "metadata": {},
   "outputs": [],
   "source": [
    "import matplotlib.pyplot as plt"
   ]
  },
  {
   "cell_type": "code",
   "execution_count": null,
   "id": "4377e434-c149-4f4f-b8de-9ca4d4be38aa",
   "metadata": {},
   "outputs": [],
   "source": [
    "import pyTrajectory.features as ptf"
   ]
  },
  {
   "cell_type": "code",
   "execution_count": null,
   "id": "91fa748a-18ec-4cc4-bd39-3d29bb0cc72c",
   "metadata": {},
   "outputs": [],
   "source": [
    "import pyTrajectory.visualization as ptv"
   ]
  },
  {
   "cell_type": "code",
   "execution_count": null,
   "id": "ec68e089-93b0-47c2-9d62-9147f8e18078",
   "metadata": {},
   "outputs": [],
   "source": [
    "from matplotlib.collections import LineCollection"
   ]
  },
  {
   "cell_type": "code",
   "execution_count": null,
   "id": "9f2fbab7-7abb-4c3c-80bd-8fb1ae8943ce",
   "metadata": {},
   "outputs": [],
   "source": [
    "from ipywidgets import interact\n",
    "import ipywidgets as widgets\n",
    "%matplotlib widget\n",
    "\n",
    "def plot_pair(ax, timestamp, t1, t2, xlim, ylim):\n",
    "    ax.clear()\n",
    "    \n",
    "    segments = ptf.posture_segments(t1[(timestamp - 10):(timestamp + 1)], keypoint_pairs=((0, 1), (0, 2), (1, 3), (2, 3), (3, 4), (3, 5), (4, 6), (5, 6)))  # [:20].reshape(-1, 2, 2)\n",
    "    ax.add_collection(LineCollection(segments.reshape(-1, 2, 2), alpha=np.linspace(0.1, 1, 11), color=\"k\"))\n",
    "    \n",
    "    segments = ptf.posture_segments(t2[(timestamp - 10):(timestamp + 1)], keypoint_pairs=((0, 1), (0, 2), (1, 3), (2, 3), (3, 4), (3, 5), (4, 6), (5, 6)))  # [:20].reshape(-1, 2, 2)\n",
    "    ax.add_collection(LineCollection(segments.reshape(-1, 2, 2), alpha=np.linspace(0.1, 1, 11), color=\"r\"))\n",
    "\n",
    "    ax.set_xlim(xlim)\n",
    "    ax.set_ylim(ylim)\n",
    "    ax.set_aspect(\"equal\")\n",
    "    ax.set_xticks([])\n",
    "    ax.set_yticks([])\n",
    "\n",
    "plt.close(\"all\")\n",
    "\n",
    "fig = plt.figure()\n",
    "ax_1, ax_2 = fig.subplots(2, 1, height_ratios=[1, 10], gridspec_kw=dict(hspace=0, wspace=0))\n",
    "\n",
    "xlim_1, ylim_1 = np.asarray(ptv.get_trajectory_range(t1))\n",
    "xlim_1 = xlim_1 + np.diff(xlim_1) * (-0.1, 0.1)\n",
    "ylim_1 = ylim_1 + np.diff(ylim_1) * (-0.1, 0.1)\n",
    "\n",
    "xlim_2, ylim_2 = np.asarray(ptv.get_trajectory_range(t2))\n",
    "xlim_2 = xlim_2 + np.diff(xlim_2) * (-0.1, 0.1)\n",
    "ylim_2 = ylim_2 + np.diff(ylim_2) * (-0.1, 0.1)\n",
    "\n",
    "xlim = min(xlim_1[0], xlim_2[0]), max(xlim_1[1], xlim_2[1])\n",
    "ylim = min(ylim_1[0], ylim_2[0]), max(ylim_1[1], ylim_2[1])\n",
    "\n",
    "def plot_timeline(ax, timestamp, annotations_df, window=10 * 30 + 1):\n",
    "    ax.clear()\n",
    "\n",
    "    ax.axvline(timestamp, c=\"k\", zorder=0)\n",
    "    ax.axvline(timestamp, c=\"k\", alpha=0.5)\n",
    "    ax.broken_barh(annotations_df.set_index(\"category\").loc[[\"other\"], [\"start\", \"duration\"]].to_numpy(), (0, 0.8), color=\"#ababab\", lw=0)\n",
    "    ax.broken_barh(annotations_df.set_index(\"category\").loc[[\"investigation\"], [\"start\", \"duration\"]].to_numpy(), (1, 0.8), color=\"#4276ad\", lw=0)\n",
    "    ax.broken_barh(annotations_df.set_index(\"category\").loc[[\"mount\"], [\"start\", \"duration\"]].to_numpy(), (2, 0.8), color=\"#55ab7a\", lw=0)\n",
    "    ax.broken_barh(annotations_df.set_index(\"category\").loc[[\"attack\"], [\"start\", \"duration\"]].to_numpy(), (3, 0.8), color=\"#e35a3b\", lw=0)\n",
    "    \n",
    "    ax.set_xlim(max(0, timestamp - window // 2), min(annotations_df[\"stop\"].max(), timestamp + window // 2))\n",
    "    ax.set_ylim(-0.5, 4.3)\n",
    "    ax.set_xticks([])\n",
    "    ax.set_yticks([])\n",
    "\n",
    "# range_slider = widgets.IntRangeSlider(value=(10, 510), min=10, max=len(t1) - 1, layout=widgets.Layout(width=\"800px\"))\n",
    "slider = widgets.IntSlider(value=10, min=5000, max=6000, layout=widgets.Layout(width=\"800px\"))\n",
    "\n",
    "# # The transforms are bi-directional and should be an iterable of callables (one for each direction)\n",
    "# # (binding of slider variable to the lambda is not necessary in this example, but might help to avoid confusion elsewhere)\n",
    "# transforms_lower = [lambda value, slider=slider: value[0],\n",
    "#                     lambda value, slider=slider: [value, slider.value[1]]]\n",
    "# transforms_upper = [lambda value, slider=slider: value[1],\n",
    "#                     lambda value, slider=slider: [slider.value[0], value]]\n",
    "\n",
    "\n",
    "# # Link the values\n",
    "# widgets.link((range_slider, 'value'), (slider, 'min'), transform=transforms_lower)\n",
    "# widgets.link((range_slider, 'value'), (slider, 'max'), transform=transforms_upper)\n",
    "\n",
    "interact(\n",
    "    lambda timestamp: (  # , timestamp_range: (\n",
    "        plot_pair(ax_2, timestamp, t1, t2, xlim, ylim),\n",
    "        plot_timeline(ax_1, timestamp, annotations_df)\n",
    "    ),\n",
    "    # timestamp_range=range_slider,\n",
    "    timestamp=slider\n",
    ")"
   ]
  },
  {
   "cell_type": "code",
   "execution_count": null,
   "id": "d22ef7fc-42fe-46eb-8bcf-6fffec3ab13f",
   "metadata": {},
   "outputs": [],
   "source": [
    "import numpy as np\n",
    "\n",
    "keypoints = np.transpose([np.arange(500), np.repeat(0, 500)]).reshape(100, 5, 2)[:, ::-1]\n",
    "\n",
    "t = Trajectory({cfg.key_timestamp: np.arange(100) + 10,\n",
    "                cfg.key_keypoints: keypoints,\n",
    "                cfg.key_category: None,\n",
    "                cfg.key_score: None,\n",
    "                cfg.key_box: None})"
   ]
  },
  {
   "cell_type": "code",
   "execution_count": null,
   "id": "1faba61f-386c-4531-aee8-9e97f2e13a2a",
   "metadata": {},
   "outputs": [],
   "source": [
    "import pandas as pd\n",
    "\n",
    "annotations = pd.DataFrame({\"start\": [-10, 30, 90], \"stop\": [20, 50, 110], \"category\": [\"a\"] * 3})\n",
    "\n",
    "pd.DataFrame(annotations)"
   ]
  },
  {
   "cell_type": "code",
   "execution_count": null,
   "id": "946f2372-6de3-4983-9d22-84b886f8c6ef",
   "metadata": {},
   "outputs": [],
   "source": [
    "AnnotatedSampleable(t, annotations=annotations).category_idx(\"a\")"
   ]
  },
  {
   "cell_type": "code",
   "execution_count": null,
   "id": "1657dd3f-3078-4111-9ad0-27b4ab617b28",
   "metadata": {},
   "outputs": [],
   "source": [
    "from pyTrajectory.visualization import get_trajectory_range"
   ]
  },
  {
   "cell_type": "code",
   "execution_count": null,
   "id": "0b63d285-a14b-42aa-b369-67b5a8df0c28",
   "metadata": {},
   "outputs": [],
   "source": [
    "trajectories = load_trajectories(\"/home/paul/detectron2_workdir/test_linking/trajectories.h5\")"
   ]
  },
  {
   "cell_type": "code",
   "execution_count": null,
   "id": "0a282739-7b3b-45e6-8a52-da25500e803f",
   "metadata": {},
   "outputs": [],
   "source": [
    "trajectory = list(trajectories.values())[0].interpolate()\n",
    "trajectory = trajectory[40000:]"
   ]
  },
  {
   "cell_type": "code",
   "execution_count": null,
   "id": "e9dc81c2-a9ef-495e-a0f7-4a58afbec72e",
   "metadata": {},
   "outputs": [],
   "source": [
    "import pyTrajectory.math as ptm\n",
    "\n",
    "import numpy as np"
   ]
  },
  {
   "cell_type": "code",
   "execution_count": null,
   "id": "7c8dc7e8-d62b-46a4-88e5-806a1de0f1ff",
   "metadata": {},
   "outputs": [],
   "source": [
    "import pyTrajectory.features as ptf"
   ]
  },
  {
   "cell_type": "code",
   "execution_count": null,
   "id": "a849fd5f-0202-400c-920e-e568f28df3b9",
   "metadata": {},
   "outputs": [],
   "source": [
    "keypoints = ptf.keypoints(trajectory, keypoints=(1, 2, 3, ))\n",
    "keypoints.shape, keypoints[0]"
   ]
  },
  {
   "cell_type": "code",
   "execution_count": null,
   "id": "1d5f1b8b-b10b-4d20-90b7-9e85f9e5b0ff",
   "metadata": {},
   "outputs": [],
   "source": [
    "ptf.as_dataframe(ptf.keypoints)(trajectory, keypoints=(1, 2, 3, ))[:1]"
   ]
  },
  {
   "cell_type": "code",
   "execution_count": null,
   "id": "533bc23d-8ddf-4385-b948-b27224965a19",
   "metadata": {},
   "outputs": [],
   "source": [
    "posture_segments = ptf.posture_segments(trajectory, keypoint_pairs=((1, 0), (2, 1), (3, 2)))\n",
    "posture_segments.shape, posture_segments[0]"
   ]
  },
  {
   "cell_type": "code",
   "execution_count": null,
   "id": "abc4d542-ff9c-4672-b717-9a147239b88d",
   "metadata": {},
   "outputs": [],
   "source": [
    "ptf.as_dataframe(ptf.posture_segments)(trajectory, keypoint_pairs=((1, 0), (2, 1), (3, 2)))[:1]"
   ]
  },
  {
   "cell_type": "code",
   "execution_count": null,
   "id": "9c51732a-20f6-4f4a-b4ea-10e208289787",
   "metadata": {},
   "outputs": [],
   "source": [
    "keypoints = np.transpose([np.arange(50), np.repeat(0, 50)]).reshape(10, 5, 2)[:, ::-1]\n",
    "\n",
    "t1 = Trajectory({cfg.key_timestamp: np.arange(10),\n",
    "                 cfg.key_keypoints: keypoints,\n",
    "                 cfg.key_category: None,\n",
    "                 cfg.key_score: None,\n",
    "                 cfg.key_box: None})\n",
    "\n",
    "t2 = Trajectory({cfg.key_timestamp: np.arange(10),\n",
    "                 cfg.key_keypoints: keypoints[:] + (0, 1),\n",
    "                 cfg.key_category: None,\n",
    "                 cfg.key_score: None,\n",
    "                 cfg.key_box: None})"
   ]
  },
  {
   "cell_type": "code",
   "execution_count": null,
   "id": "1e31d081-b598-4361-b2c2-76a8dfddf36a",
   "metadata": {},
   "outputs": [],
   "source": [
    "t_bent = Trajectory({cfg.key_timestamp: np.arange(10),\n",
    "                     cfg.key_keypoints: keypoints[:] + ((0, 0), (0, 0), (0, 0), (0, 0), (0, 1)),\n",
    "                     cfg.key_category: None,\n",
    "                     cfg.key_score: None,\n",
    "                     cfg.key_box: None})"
   ]
  },
  {
   "cell_type": "code",
   "execution_count": null,
   "id": "d1aa31c5-f7e1-4287-8633-3e5463fe10b0",
   "metadata": {},
   "outputs": [],
   "source": [
    "import matplotlib.pyplot as plt\n",
    "\n",
    "plt.plot(*t_bent[cfg.key_keypoints][0].T, \"o-\")\n",
    "plt.gca().set_aspect(\"equal\")\n",
    "plt.show()\n",
    "\n",
    "posture_angles = ptf.posture_angles(\n",
    "    t_bent,\n",
    "    keypoint_pairs_1=((3, 4), (2, 3), (1, 2), (0, 1), ),\n",
    "    keypoint_pairs_2=((3, 4), (2, 3), ),\n",
    ")\n",
    "posture_angles.shape, np.degrees(posture_angles[0])"
   ]
  },
  {
   "cell_type": "code",
   "execution_count": null,
   "id": "82de2137-763b-4936-a515-71ba1b618c49",
   "metadata": {},
   "outputs": [],
   "source": [
    "ptf.as_dataframe(ptf.posture_angles)(\n",
    "    t_bent,\n",
    "    keypoint_pairs_1=((3, 4), (2, 3), (1, 2), (0, 1), ),\n",
    "    keypoint_pairs_2=((3, 4), (2, 3), ),\n",
    ").apply(np.degrees)[:1]"
   ]
  },
  {
   "cell_type": "code",
   "execution_count": null,
   "id": "c8525805-64fa-4275-b075-e5e6e0610c62",
   "metadata": {},
   "outputs": [],
   "source": [
    "keypoint_distances = ptf.keypoint_distances(\n",
    "    t1,\n",
    "    trajectory_other=t2,\n",
    "    keypoints_1=(1, 2, 3),\n",
    "    keypoints_2=(1, ),\n",
    ")\n",
    "keypoint_distances[0], keypoint_distances.shape"
   ]
  },
  {
   "cell_type": "code",
   "execution_count": null,
   "id": "4958a9c4-c364-4401-8820-fcacc8548f24",
   "metadata": {},
   "outputs": [],
   "source": [
    "ptf.as_dataframe(ptf.keypoint_distances)(\n",
    "    t1,\n",
    "    trajectory_other=t2,\n",
    "    keypoints_1=(1, 2, 3),\n",
    "    keypoints_2=(1, ),\n",
    ")[:1]"
   ]
  },
  {
   "cell_type": "code",
   "execution_count": null,
   "id": "0dcf694b-bf6f-4b8c-89cc-50a58babcb84",
   "metadata": {},
   "outputs": [],
   "source": [
    "target_vectors = ptf.target_vectors(t1, trajectory_other=t2, keypoints_1=(1, 2, ), keypoints_2=(1, 2, 3))\n",
    "target_vectors.shape, target_vectors[0]"
   ]
  },
  {
   "cell_type": "code",
   "execution_count": null,
   "id": "21948dea-038d-44ba-9b31-0143f8b66efe",
   "metadata": {},
   "outputs": [],
   "source": [
    "ptf.as_dataframe(ptf.target_vectors)(t1, trajectory_other=t2, keypoints_1=(1, 2, ), keypoints_2=(1, 2, 3))[:1]"
   ]
  },
  {
   "cell_type": "code",
   "execution_count": null,
   "id": "9b76e7dc-e6fd-4192-8d87-9eefcf7dca7a",
   "metadata": {},
   "outputs": [],
   "source": [
    "import matplotlib.pyplot as plt\n",
    "\n",
    "plt.plot(*ptf.keypoints(t1, keypoints=(3, 2, 1))[0].T, \"o-\")\n",
    "for idx, pt in zip((3, 2, 1), ptf.keypoints(t1, keypoints=(3, 2, 1))[0]):\n",
    "    plt.text(*pt, str(idx))\n",
    "plt.plot(*ptf.keypoints(t2, keypoints=(3, 2, 1))[0].T, \"o-\")\n",
    "for idx, pt in zip((3, 2, 1), ptf.keypoints(t2, keypoints=(3, 2, 1))[0]):\n",
    "    plt.text(*pt, str(idx))\n",
    "plt.gca().set_aspect(\"equal\")"
   ]
  },
  {
   "cell_type": "code",
   "execution_count": null,
   "id": "fab60591-b719-415b-bab3-a618c5f2835a",
   "metadata": {},
   "outputs": [],
   "source": [
    "target_angles = ptf.target_angles(t1, trajectory_other=t1, keypoint_pairs_1=((2, 1), (3, 2)), keypoints_2=(1, 2, 3))\n",
    "target_angles.shape, np.degrees(target_angles[0])"
   ]
  },
  {
   "cell_type": "code",
   "execution_count": null,
   "id": "3a878e2d-ed32-48c5-b16e-0facf2099f51",
   "metadata": {},
   "outputs": [],
   "source": [
    "ptf.as_dataframe(ptf.target_angles)(\n",
    "    t1, \n",
    "    trajectory_other=t1,\n",
    "    keypoint_pairs_1=((2, 1), (3, 2), ),\n",
    "    keypoints_2=(1, 2, 3, ),\n",
    ").apply(np.degrees)[:1]"
   ]
  },
  {
   "cell_type": "code",
   "execution_count": null,
   "id": "e3dfbaf3-46b5-47a1-a3ff-b74af0191d25",
   "metadata": {},
   "outputs": [],
   "source": [
    "target_angles = ptf.target_angles(\n",
    "    t1, \n",
    "    trajectory_other=t1,\n",
    "    keypoint_pairs_1=((2, 1), (3, 2), (4, 3)),\n",
    "    keypoints_2=(2, 3, 4, ),\n",
    "    element_wise=True\n",
    ")\n",
    "target_angles.shape, np.degrees(target_angles[0])"
   ]
  },
  {
   "cell_type": "code",
   "execution_count": null,
   "id": "838bbcd0-9be9-41f0-8b3e-80cce97ed7a8",
   "metadata": {},
   "outputs": [],
   "source": [
    "posture_alignment = ptf.posture_alignment(\n",
    "    t1,\n",
    "    trajectory_other=t1,\n",
    "    keypoint_pairs_1=((1, 2), (3, 2), ),\n",
    "    keypoint_pairs_2=((1, 2), (3, 2), )\n",
    ")\n",
    "posture_alignment.shape, posture_alignment[0]"
   ]
  },
  {
   "cell_type": "code",
   "execution_count": null,
   "id": "03f3fffd-3865-4c32-b4e0-4545add96db2",
   "metadata": {},
   "outputs": [],
   "source": [
    "ptf.as_dataframe(ptf.posture_alignment)(\n",
    "    t1,\n",
    "    trajectory_other=t1,\n",
    "    keypoint_pairs_1=((1, 2), (3, 2), ),\n",
    "    keypoint_pairs_2=((1, 2), (3, 2), )\n",
    ")[:1]"
   ]
  },
  {
   "cell_type": "code",
   "execution_count": null,
   "id": "933685bd-f856-4c44-aebc-4c87b64f808d",
   "metadata": {},
   "outputs": [],
   "source": [
    "keypoint_distances = ptf.keypoint_distances(trajectory, keypoints_1=(0, 1, 2, 3, 4, 5), keypoints_2=(0, 1, 2, 3, 4, 5))\n",
    "keypoint_distances.shape, keypoint_distances[0]"
   ]
  },
  {
   "cell_type": "code",
   "execution_count": null,
   "id": "1b3c3f9d-07b8-42c5-a5b5-2808fdcba9b4",
   "metadata": {},
   "outputs": [],
   "source": [
    "keypoint_distances = ptf.keypoint_distances(trajectory, keypoints_1=(0, 1, 2, 3, 4, 5), keypoints_2=(5, 4, 3, 2, 1, 0), element_wise=True)\n",
    "keypoint_distances.shape, keypoint_distances[0]"
   ]
  },
  {
   "cell_type": "code",
   "execution_count": null,
   "id": "bb0b37ba-91c6-48c2-ad08-1cf146fbe47f",
   "metadata": {},
   "outputs": [],
   "source": [
    "ptf.as_dataframe(ptf.keypoint_distances)(trajectory, keypoints_1=(0, 1, 2, 3, 4, 5), keypoints_2=(5, 4, 3, 2, 1, 0), element_wise=True)[:1]"
   ]
  },
  {
   "cell_type": "code",
   "execution_count": null,
   "id": "30bd0e8f-f448-4a95-9432-3e98e801b420",
   "metadata": {},
   "outputs": [],
   "source": [
    "ptf.speed(t1, step=3, keypoints=(1, 2, ), pad_value=np.nan)"
   ]
  },
  {
   "cell_type": "code",
   "execution_count": null,
   "id": "4ab297fe-85fd-4dd6-accb-8a70aef5ec7a",
   "metadata": {},
   "outputs": [],
   "source": [
    "ptf.as_dataframe(ptf.speed)(t1, step=3, keypoints=(1, 2, ))"
   ]
  },
  {
   "cell_type": "code",
   "execution_count": null,
   "id": "5b78d3e6-dbbd-4082-a1ca-651a74f5cfd4",
   "metadata": {},
   "outputs": [],
   "source": [
    "ptf.velocity(t1, step=3, keypoints=(1, 2, ), pad_value=np.nan)"
   ]
  },
  {
   "cell_type": "code",
   "execution_count": null,
   "id": "7345b0fe-d946-4ccb-8293-1fecf265b64b",
   "metadata": {},
   "outputs": [],
   "source": [
    "ptf.as_dataframe(ptf.velocity)(t1, step=3, keypoints=(1, 2, ), pad_value=np.nan)"
   ]
  },
  {
   "cell_type": "code",
   "execution_count": null,
   "id": "92ed38a7-3652-4e9e-b248-44675a927799",
   "metadata": {},
   "outputs": [],
   "source": [
    "projected_velocity = ptf.projected_velocity(t1, step=3, keypoints_1=(1, 2, ), keypoint_pairs_2=((2, 1), (1, 2)), element_wise=True)\n",
    "projected_velocity"
   ]
  },
  {
   "cell_type": "code",
   "execution_count": null,
   "id": "f997357e-cbb7-43a5-90ea-b82e242a7e1f",
   "metadata": {},
   "outputs": [],
   "source": [
    "import pandas as pd\n",
    "\n",
    "ptf.as_dataframe(ptf.projected_velocity)(t1, step=1, keypoints_1=(1, 2, ), keypoint_pairs_2=((2, 1), (1, 2)), element_wise=True)"
   ]
  },
  {
   "cell_type": "code",
   "execution_count": null,
   "id": "37f661f7-c3a6-4f2b-b623-54b7678ae77c",
   "metadata": {},
   "outputs": [],
   "source": [
    "target_velocity = ptf.target_velocity(t1, step=3, trajectory_other=t2, keypoints_1=(1, 2, ), keypoint_pairs_2=((1, 1), (2, 2)), element_wise=True)\n",
    "target_velocity"
   ]
  },
  {
   "cell_type": "code",
   "execution_count": null,
   "id": "7ba22c3f-ab14-442f-aba0-8b8fb6680263",
   "metadata": {},
   "outputs": [],
   "source": [
    "ptf.as_dataframe(ptf.target_velocity)(t1, step=3, trajectory_other=t2, keypoints_1=(1, 2, ), keypoint_pairs_2=((1, 1), (2, 2)), element_wise=True)"
   ]
  },
  {
   "cell_type": "code",
   "execution_count": null,
   "id": "4d961a80-e4e5-47ab-a3e5-8b5c7fd722cb",
   "metadata": {},
   "outputs": [],
   "source": [
    "ptf.as_dataframe(ptf.orientation_change)(t1, step=3, keypoint_pairs=((2, 1), (3, 2)))"
   ]
  },
  {
   "cell_type": "code",
   "execution_count": null,
   "id": "b4c85d56-8cd3-406b-80fd-fc728b86820f",
   "metadata": {},
   "outputs": [],
   "source": []
  },
  {
   "cell_type": "code",
   "execution_count": null,
   "id": "3013daf9-4c3a-4ced-bc91-d44ec022b835",
   "metadata": {},
   "outputs": [],
   "source": []
  },
  {
   "cell_type": "code",
   "execution_count": null,
   "id": "6e13b983-3819-4eca-8adf-42989b5b6ca6",
   "metadata": {},
   "outputs": [],
   "source": [
    "t3 = trajectory[:-120]\n",
    "t4 = trajectory[120:]"
   ]
  },
  {
   "cell_type": "code",
   "execution_count": null,
   "id": "be5624fa-cd98-4356-931a-1c0abd027f7b",
   "metadata": {},
   "outputs": [],
   "source": [
    "samples = extractor.extract(trajectory)\n",
    "samples"
   ]
  },
  {
   "cell_type": "code",
   "execution_count": null,
   "id": "00401c3f-1cbc-4c8b-90eb-d201ce9b84d1",
   "metadata": {},
   "outputs": [],
   "source": [
    "import pyTrajectory.sliding_metrics as ptsm"
   ]
  },
  {
   "cell_type": "code",
   "execution_count": null,
   "id": "59a85a60-0684-44c2-9e7a-dc8b1c775b27",
   "metadata": {},
   "outputs": [],
   "source": [
    "aggregator = ptsm.SlidingWindowAggregator(\n",
    "    123,\n",
    "    [\n",
    "        ptsm.metrics.mean,\n",
    "        ptsm.metrics.median,\n",
    "        ptsm.metrics.min,\n",
    "        ptsm.metrics.max,\n",
    "        ptsm.metrics.q10,\n",
    "        ptsm.metrics.q90,\n",
    "        ptsm.as_window_delta(ptsm.metrics.mean),\n",
    "        ptsm.as_window_delta(ptsm.metrics.median),\n",
    "        ptsm.as_window_delta(ptsm.metrics.min),\n",
    "        ptsm.as_window_delta(ptsm.metrics.max),\n",
    "        ptsm.as_window_delta(ptsm.metrics.q10),\n",
    "        ptsm.as_window_delta(ptsm.metrics.q90),\n",
    "    ],\n",
    "    [\n",
    "        slice(0, 31),\n",
    "        slice(31, 62),\n",
    "        slice(62, 93)\n",
    "    ],\n",
    ")\n",
    "aggregator.set_output(transform=\"pandas\")\n",
    "transformed_samples = aggregator.transform(samples)"
   ]
  },
  {
   "cell_type": "code",
   "execution_count": null,
   "id": "934320eb-4503-409b-aa09-4e8cd26b3c63",
   "metadata": {},
   "outputs": [],
   "source": [
    "time_scales = [32, 59, 173]"
   ]
  },
  {
   "cell_type": "code",
   "execution_count": null,
   "id": "d8cbef0f-cd4d-424d-a551-6ac667039adf",
   "metadata": {},
   "outputs": [],
   "source": [
    "[closest_odd_divisible(scale, 3) for scale in time_scales]"
   ]
  },
  {
   "cell_type": "code",
   "execution_count": null,
   "id": "95e82c4e-ef3b-4610-a014-2bed047cb5f7",
   "metadata": {},
   "outputs": [],
   "source": [
    "closest_odd_divisible(126, 3)"
   ]
  },
  {
   "cell_type": "code",
   "execution_count": null,
   "id": "6a7483e9-3c93-480e-928e-86cf7c0617b5",
   "metadata": {},
   "outputs": [],
   "source": [
    "from ipywidgets import interact\n",
    "import ipywidgets as widgets\n",
    "\n",
    "%matplotlib widget"
   ]
  },
  {
   "cell_type": "code",
   "execution_count": null,
   "id": "423f2036-fb53-4c51-b31a-847dfb6b1d68",
   "metadata": {},
   "outputs": [],
   "source": [
    "import pyTrajectory.sliding_metrics as ptsm"
   ]
  },
  {
   "cell_type": "code",
   "execution_count": null,
   "id": "e7edbf26-d911-4db7-9d1f-e2dfea93fd35",
   "metadata": {},
   "outputs": [],
   "source": [
    "samples.shape"
   ]
  },
  {
   "cell_type": "code",
   "execution_count": null,
   "id": "c011a31e-b2b3-43ee-9554-cd81b03d16b8",
   "metadata": {},
   "outputs": [],
   "source": [
    "samples_sliding_features = apply_multiple_to_sliding_windows(\n",
    "    samples, \n",
    "    123,\n",
    "    [\n",
    "        ptsm.last_dim_mean,\n",
    "        ptsm.last_dim_median,\n",
    "        lambda array: ptsm.last_dim_quantiles(array, (0.1, )),\n",
    "        lambda array: ptsm.last_dim_quantiles(array, (0.9, )),\n",
    "        ptsm.last_dim_min,\n",
    "        ptsm.last_dim_max,\n",
    "    ],\n",
    "    selection=selection * 3,\n",
    ")"
   ]
  },
  {
   "cell_type": "code",
   "execution_count": null,
   "id": "55b9fceb-2a7d-49cd-ab65-c376681e2120",
   "metadata": {},
   "outputs": [],
   "source": [
    "samples_sliding_features.nbytes / (1024 ** 3)"
   ]
  },
  {
   "cell_type": "code",
   "execution_count": null,
   "id": "f9af48c6-c320-498e-8a73-c26ce380cfd4",
   "metadata": {},
   "outputs": [],
   "source": [
    "samples_sliding_features.shape"
   ]
  },
  {
   "cell_type": "code",
   "execution_count": null,
   "id": "8487de25-ac8a-4ff3-8c51-2e9f9468a0c5",
   "metadata": {},
   "outputs": [],
   "source": [
    "selection = [\n",
    "    slice(\n",
    "        int(idx * aggregation_window_size),\n",
    "        int(idx * aggregation_window_size + aggregation_window_size),\n",
    "     )\n",
    "     for idx in range(num_aggregation_windows)\n",
    "]"
   ]
  },
  {
   "cell_type": "code",
   "execution_count": null,
   "id": "84522c42-e68e-4fbd-a973-f563365de0c7",
   "metadata": {},
   "outputs": [],
   "source": [
    "half_aggregation_window_size = int(aggregation_window_size // 2)\n",
    "\n",
    "def plot_aggregated(window_idx, ax):\n",
    "    ax.clear()\n",
    "    ax.plot(np.arange(window_size), sw[window_idx, 0, :], \"o\", ms=2, c=\"k\", zorder=0)\n",
    "    for idx in range(num_aggregation_windows):\n",
    "        start = int(idx * aggregation_window_size)\n",
    "        stop = int(start + aggregation_window_size)\n",
    "        x = np.arange(start, stop)\n",
    "        y = sw[window_idx, 0, start:stop]\n",
    "        l = ax.plot([], [], zorder=1)[0]\n",
    "        c = l.get_color()\n",
    "        for aggregation_func in [np.mean, np.max, np.mean, np.median, lambda arr: np.quantile(arr, 0.1), lambda arr: np.quantile(arr, 0.9)]:\n",
    "            ax.plot([start, stop], [aggregation_func(y)] * 2, c=c, zorder=2)\n",
    "\n",
    "def plot_aggregated_slope(window_idx, ax):\n",
    "    ax.clear()\n",
    "    ax.plot(np.arange(window_size), sw[window_idx, 0, :], \"o\", ms=2, c=\"k\", zorder=0)\n",
    "    for idx in range(num_aggregation_windows):\n",
    "        start = int(idx * aggregation_window_size)\n",
    "        stop = int(start + aggregation_window_size)\n",
    "        x = np.arange(start, stop)\n",
    "        y = sw[window_idx, 0, start:stop]\n",
    "        l = ax.plot([], [], zorder=1)[0]\n",
    "        c = l.get_color()\n",
    "        for aggregation_func in [np.mean, np.max, np.mean, np.median, lambda arr: np.quantile(arr, 0.1), lambda arr: np.quantile(arr, 0.9)]:\n",
    "            ax.plot([start, stop], [aggregation_func(y[:half_aggregation_window_size]), aggregation_func(y[half_aggregation_window_size:])], c=c, zorder=2)\n",
    "\n",
    "plt.close(\"all\")\n",
    "\n",
    "fig = plt.figure(layout=\"constrained\")\n",
    "axes = fig.subplots(1, 2)\n",
    "\n",
    "interact(\n",
    "    lambda window_idx: (\n",
    "        plot_aggregated(\n",
    "            window_idx,\n",
    "            axes[0],\n",
    "        ),\n",
    "        plot_aggregated_slope(\n",
    "            window_idx,\n",
    "            axes[1])\n",
    "    ), \n",
    "    window_idx=widgets.IntSlider(value=0, min=0, max=120 - 1, layout=widgets.Layout(width=\"800px\"))\n",
    ")"
   ]
  },
  {
   "cell_type": "code",
   "execution_count": null,
   "id": "0d58e88a-7498-48cf-9805-38c6ea8ed67a",
   "metadata": {},
   "outputs": [],
   "source": [
    "t3 = trajectory[:-30]\n",
    "t4 = trajectory[30:]"
   ]
  },
  {
   "cell_type": "code",
   "execution_count": null,
   "id": "c1f42a81-2e06-47c7-ad5d-902f443b34e3",
   "metadata": {
    "scrolled": true
   },
   "outputs": [],
   "source": [
    "%timeit samples = extractor.extract(t3, t4)"
   ]
  },
  {
   "cell_type": "code",
   "execution_count": null,
   "id": "ceb2f57a-784b-4f50-8df6-d8c8b950376e",
   "metadata": {},
   "outputs": [],
   "source": [
    "%timeit samples = extractor.extract(t3, t4)"
   ]
  },
  {
   "cell_type": "code",
   "execution_count": null,
   "id": "c4db11ee-e22b-431a-b82b-3f72afb665ac",
   "metadata": {},
   "outputs": [],
   "source": [
    "samples[\"projected_velocity_t[30]-1-2_1-proj\"]"
   ]
  },
  {
   "cell_type": "code",
   "execution_count": null,
   "id": "1e2d425d-c687-49af-a8a9-b7c67674b945",
   "metadata": {},
   "outputs": [],
   "source": [
    "plt.scatter(samples[\"projected_velocity_t[30]-1-2_1-proj\"], samples[\"scl_projected_velocity_t[30]-1-2_1-rej\"], s=2, alpha=0.5)\n",
    "plt.show()"
   ]
  },
  {
   "cell_type": "code",
   "execution_count": null,
   "id": "760721d8-e74b-4f0a-b29e-e7e89d5e3721",
   "metadata": {},
   "outputs": [],
   "source": [
    "keypoints = trajectory[cfg.key_keypoints][..., :2]\n",
    "\n",
    "step = 30\n",
    "\n",
    "keypoints_step = keypoints[step:]\n",
    "keypoints = keypoints[:-step]\n",
    "\n",
    "orientation_vectors = keypoints[:, 1] - keypoints[:, 2]\n",
    "translation_vectors = keypoints_step[:, 1] - keypoints[:, 1]\n",
    "\n",
    "projection_vectors = ptm.projection(translation_vectors, orientation_vectors)\n",
    "rejection_vectors = ptm.rejection(translation_vectors, orientation_vectors)"
   ]
  },
  {
   "cell_type": "code",
   "execution_count": null,
   "id": "2313ad79-0b76-4914-b305-e031fe29a985",
   "metadata": {},
   "outputs": [],
   "source": [
    "ptm.euclidean_distance(keypoints[:10], keypoints_step[:10]).shape"
   ]
  },
  {
   "cell_type": "code",
   "execution_count": null,
   "id": "97cda930-110f-4b65-b098-ebfaa364dba6",
   "metadata": {},
   "outputs": [],
   "source": [
    "keypoints_transformed = ptm.rotate(\n",
    "    keypoints - keypoints[:, 1][:, np.newaxis],\n",
    "    -ptm.to_angles(orientation_vectors)[:, np.newaxis]\n",
    ")\n",
    "\n",
    "keypoints_step_transformed = ptm.rotate(\n",
    "    keypoints_step - keypoints[:, 1][:, np.newaxis],\n",
    "    -ptm.to_angles(orientation_vectors)[:, np.newaxis]\n",
    ")\n",
    "\n",
    "orientation_vectors_transformed = keypoints_transformed[:, 1] - keypoints_transformed[:, 2]\n",
    "translation_vectors_transformed = keypoints_step_transformed[:, 1] - keypoints_transformed[:, 1]\n",
    "projection_vectors_transformed = ptm.projection(translation_vectors_transformed, orientation_vectors_transformed)\n",
    "rejection_vectors_transformed = ptm.rejection(translation_vectors_transformed, orientation_vectors_transformed)"
   ]
  },
  {
   "cell_type": "code",
   "execution_count": null,
   "id": "f2e1fea8-f4be-43d2-be1a-2af585ebdac9",
   "metadata": {},
   "outputs": [],
   "source": [
    "keypoints.shape, keypoints_step.shape, keypoints_transformed.shape, keypoints_step_transformed.shape"
   ]
  },
  {
   "cell_type": "code",
   "execution_count": null,
   "id": "b019552c-6a9d-4536-bd3f-34cbdf802aa2",
   "metadata": {},
   "outputs": [],
   "source": [
    "from ipywidgets import interact\n",
    "import ipywidgets as widgets\n",
    "\n",
    "%matplotlib widget\n",
    "\n",
    "def plot(\n",
    "    t,\n",
    "    keypoints,\n",
    "    keypoints_step,\n",
    "    translation_vectors,\n",
    "    projection_vectors,\n",
    "    rejection_vectors,\n",
    "    ax,\n",
    "):\n",
    "    def plot_axes(keypoints, **kwargs):\n",
    "        orientation_vector = keypoints[t, 1] - keypoints[t, 2]\n",
    "        orientation_vector_orthogonal = ptm.rotate(orientation_vector, np.radians(90))\n",
    "        ax.axline(keypoints[t, 1], keypoints[t, 1] + orientation_vector, **kwargs)\n",
    "        ax.axline(keypoints[t, 1], keypoints[t, 1] + orientation_vector_orthogonal, **kwargs)\n",
    "    \n",
    "    ax.clear()\n",
    "\n",
    "    plot_axes(keypoints, color=(0.8, 0.8, 0.8), linestyle=(0, (3, 3)), lw=1)\n",
    "    plot_axes(keypoints_step, color=\"k\", linestyle=(0, (3, 3)), lw=1)\n",
    "    \n",
    "    ax.plot(*keypoints[t].T, \"o-\", c=(0.8, 0.8, 0.8))\n",
    "    ax.plot(*keypoints_step[t].T, \"o-\", c=\"k\")\n",
    "\n",
    "    ax.plot(\n",
    "        [keypoints[t, 1, 0], keypoints[t, 1, 0] + translation_vectors[t, 0]],\n",
    "        [keypoints[t, 1, 1], keypoints[t, 1, 1] + translation_vectors[t, 1]],\n",
    "        c='r',\n",
    "    )\n",
    "\n",
    "    ax.plot(\n",
    "        [keypoints[t, 1, 0], keypoints[t, 1, 0] + projection_vectors[t, 0]],\n",
    "        [keypoints[t, 1, 1], keypoints[t, 1, 1] + projection_vectors[t, 1]],\n",
    "        c='b',\n",
    "    )\n",
    "\n",
    "    ax.plot(\n",
    "        [keypoints[t, 1, 0] + projection_vectors[t, 0], keypoints[t, 1, 0] + projection_vectors[t, 0] + rejection_vectors[t, 0]],\n",
    "        [keypoints[t, 1, 1] + projection_vectors[t, 1], keypoints[t, 1, 1] + projection_vectors[t, 1] + rejection_vectors[t, 1]],\n",
    "        c='g',\n",
    "    )\n",
    "    \n",
    "    ax.set_xlim(\n",
    "        min(keypoints[..., 0].min(), keypoints_step[..., 0].min()) - 200,\n",
    "        max(keypoints[..., 0].max(), keypoints_step[..., 0].max()) + 200,\n",
    "    )\n",
    "    ax.set_ylim(\n",
    "        min(keypoints[..., 1].min(), keypoints_step[..., 1].min()) - 200,\n",
    "        max(keypoints[..., 1].max(), keypoints_step[..., 1].max()) + 200,\n",
    "    )\n",
    "    ax.set_aspect(\"equal\")\n",
    "    ax.set_xticks([])\n",
    "    ax.set_yticks([])\n",
    "\n",
    "plt.close(\"all\")\n",
    "\n",
    "fig = plt.figure(layout=\"constrained\")\n",
    "axes = fig.subplots(1, 2)\n",
    "\n",
    "interact(\n",
    "    lambda t: (\n",
    "        plot(\n",
    "            t,\n",
    "            keypoints[:1000],\n",
    "            keypoints_step[:1000],\n",
    "            translation_vectors[:1000],\n",
    "            projection_vectors[:1000],\n",
    "            rejection_vectors[:1000],\n",
    "            axes[0],\n",
    "        ),\n",
    "        plot(t,\n",
    "            keypoints_transformed[:1000],\n",
    "            keypoints_step_transformed[:1000],\n",
    "            translation_vectors_transformed[:1000],\n",
    "            projection_vectors_transformed[:1000],\n",
    "            rejection_vectors_transformed[:1000],\n",
    "            axes[1])\n",
    "    ), \n",
    "    t=widgets.IntSlider(value=0, min=0, max=1000 - 1, layout=widgets.Layout(width=\"800px\"))\n",
    ")"
   ]
  },
  {
   "cell_type": "code",
   "execution_count": null,
   "id": "bdc2da93-fa83-4d50-b2b9-a9924f17de7f",
   "metadata": {},
   "outputs": [],
   "source": [
    "plt.close(\"all\")"
   ]
  },
  {
   "cell_type": "code",
   "execution_count": null,
   "id": "23027265-45cc-4714-a5f9-cd9e89ce2bae",
   "metadata": {},
   "outputs": [],
   "source": [
    "@jit(nopython=True)\n",
    "def clip_quantiles_1d(array, q_lower, q_upper):\n",
    "    return np.clip(array, np.quantile(array, q_lower), np.quantile(array, q_upper))"
   ]
  },
  {
   "cell_type": "code",
   "execution_count": null,
   "id": "772c471e-ca5e-459e-ab54-c5af5f76faaf",
   "metadata": {},
   "outputs": [],
   "source": [
    "\n",
    "\n",
    "pipeline = Pipeline(\n",
    "    [\n",
    "        (\"transformer\", transformer),\n",
    "        (\"imputer\", KNNImputer()),\n",
    "        (\"pca\", PCA(whiten=True)),\n",
    "    ]\n",
    ")\n",
    "pipeline.set_output(transform=\"pandas\")"
   ]
  },
  {
   "cell_type": "code",
   "execution_count": null,
   "id": "9120603c-74a6-419c-bed7-6c4cd7a571d6",
   "metadata": {},
   "outputs": [],
   "source": [
    "pipeline"
   ]
  },
  {
   "cell_type": "code",
   "execution_count": null,
   "id": "2badaa24-be3e-476c-b790-cfb7a8c4469c",
   "metadata": {
    "scrolled": true
   },
   "outputs": [],
   "source": [
    "pipeline_samples = pipeline.fit_transform(transformed_samples)"
   ]
  },
  {
   "cell_type": "code",
   "execution_count": null,
   "id": "15a6f2ee-57fe-4d38-8637-204e1f441608",
   "metadata": {
    "scrolled": true
   },
   "outputs": [],
   "source": [
    "# plt.close(\"all\")\n",
    "\n",
    "# %matplotlib inline\n",
    "\n",
    "# for (_, feature), (_, feature_transformed) in zip(transformed_samples.T.iterrows(), pipeline[\"transformer\"].transform(transformed_samples).T.iterrows()):\n",
    "#     print(\"=\" * 20)\n",
    "#     fig, axes = plt.subplots(2, 2, width_ratios=[4, 1])\n",
    "#     axes[0, 0].scatter(np.arange(feature.size), feature, s=0.5, alpha=0.5)\n",
    "#     axes[1, 0].scatter(np.arange(feature_transformed.size), feature_transformed, s=0.5, alpha=0.5)\n",
    "#     axes[0, 1].hist(feature, bins=30)\n",
    "#     axes[1, 1].hist(feature_transformed, bins=30)\n",
    "#     fig.suptitle(feature.name)\n",
    "#     plt.show()"
   ]
  },
  {
   "cell_type": "code",
   "execution_count": null,
   "id": "674ad912-45ab-41cd-8a85-ea8f7c58e478",
   "metadata": {},
   "outputs": [],
   "source": [
    "np.random.default_rng()"
   ]
  },
  {
   "cell_type": "code",
   "execution_count": null,
   "id": "f86c214f-0ae2-4d03-a2da-68763b77d73c",
   "metadata": {},
   "outputs": [],
   "source": [
    "KMeans(random_state=np.random.default_rng(seed=0).integers(4294967295)).fit_predict(transformed_samples)"
   ]
  },
  {
   "cell_type": "code",
   "execution_count": null,
   "id": "7a2f674a-9c33-4c9d-b774-731a0237e916",
   "metadata": {},
   "outputs": [],
   "source": [
    "(np.arange(10) / 10) / (np.arange(10) / 10).sum()"
   ]
  },
  {
   "cell_type": "code",
   "execution_count": null,
   "id": "2a9f08bc-781c-48a0-8ebb-77e9b0bb18c6",
   "metadata": {},
   "outputs": [],
   "source": [
    "np.arange(10) / np.arange(10).sum()"
   ]
  },
  {
   "cell_type": "code",
   "execution_count": null,
   "id": "dd9587e4-86b5-4bb1-b4a4-a8f4967cf07f",
   "metadata": {},
   "outputs": [],
   "source": [
    "rng = np.random.default_rng(seed=0)\n",
    "rng.integers(4294967295)"
   ]
  },
  {
   "cell_type": "code",
   "execution_count": null,
   "id": "bb8ca6f5-18ee-4ce5-852d-28aa4aec16a6",
   "metadata": {},
   "outputs": [],
   "source": [
    "print(*[rng.random() for _ in range(10)])"
   ]
  },
  {
   "cell_type": "code",
   "execution_count": null,
   "id": "63416201-6e45-4a00-a1d5-8ebbc619cc1e",
   "metadata": {},
   "outputs": [],
   "source": [
    "sample_idx = sample_k_means(pipeline.transform(transformed_samples), sampling_frequency=0.1)"
   ]
  },
  {
   "cell_type": "code",
   "execution_count": null,
   "id": "21007c6d-d7f7-4e2a-be87-06abcc2d29fa",
   "metadata": {},
   "outputs": [],
   "source": [
    "pipeline_samples = pipeline.transform(transformed_samples)\n",
    "\n",
    "plt.scatter(*pipeline_samples.to_numpy()[:, :2].T, s=1, alpha=0.1)\n",
    "plt.scatter(*pipeline_samples.to_numpy()[sample_idx, :2].T, s=1)"
   ]
  },
  {
   "cell_type": "code",
   "execution_count": null,
   "id": "8bb3087c-9537-4b5d-a10d-33dd645b7d3f",
   "metadata": {},
   "outputs": [],
   "source": [
    "from sklearn.metrics.cluster import contingency_matrix\n",
    "from scipy.optimize import linear_sum_assignment\n",
    "\n",
    "matrix = contingency_matrix(KMeans(20).fit_predict(samples), KMeans(20).fit_predict(pipeline_samples))\n",
    "row_idx, col_idx = linear_sum_assignment(-matrix)\n",
    "matrix = matrix[row_idx].T[col_idx].T\n",
    "\n",
    "plt.matshow(matrix / matrix.sum(axis=1)[..., np.newaxis])"
   ]
  },
  {
   "cell_type": "code",
   "execution_count": null,
   "id": "c121841b-0bee-450e-85d8-a43a952ed271",
   "metadata": {},
   "outputs": [],
   "source": [
    "cutoff = int(np.argmax(np.cumsum(pca.explained_variance_ratio_) > 0.99))"
   ]
  },
  {
   "cell_type": "code",
   "execution_count": null,
   "id": "8734369f-ff4d-4200-acfa-23447b51af8f",
   "metadata": {},
   "outputs": [],
   "source": [
    "plt.bar(np.arange(20) - 0.1, np.sort(np.unique(KMeans(20).fit_predict(samples), return_counts=True)[1]), alpha=1)\n",
    "plt.bar(np.arange(20) + 0.1, np.sort(np.unique(KMeans(20).fit_predict(pipeline_samples.to_numpy()[:, :cutoff]), return_counts=True)[1]), alpha=0.75)\n"
   ]
  },
  {
   "cell_type": "code",
   "execution_count": null,
   "id": "91ca7571-2124-4c00-a201-bc67c58123ad",
   "metadata": {},
   "outputs": [],
   "source": [
    "pca = pipeline[\"pca\"]"
   ]
  },
  {
   "cell_type": "code",
   "execution_count": null,
   "id": "9de95c62-866f-4882-a660-0eee514b27a4",
   "metadata": {},
   "outputs": [],
   "source": [
    "np.argmax(np.cumsum(pca.explained_variance_ratio_) > 0.99)"
   ]
  },
  {
   "cell_type": "code",
   "execution_count": null,
   "id": "f7759f88-5eb0-4b9d-8aa6-8c7beb3f790f",
   "metadata": {},
   "outputs": [],
   "source": [
    "plt.plot(np.cumsum(pca.explained_variance_ratio_))\n",
    "plt.axvline(x=np.argmax(np.cumsum(pca.explained_variance_ratio_) > 0.99))"
   ]
  },
  {
   "cell_type": "code",
   "execution_count": null,
   "id": "a6a86749-572b-4a7b-8a4d-a771bc995811",
   "metadata": {},
   "outputs": [],
   "source": [
    "# from sklearn.metrics.cluster import contingency_matrix\n",
    "# from scipy.optimize import linear_sum_assignment\n",
    "\n",
    "# matrix = contingency_matrix(labels_embedding, labels_samples)\n",
    "# row_idx, col_idx = linear_sum_assignment(-matrix)\n",
    "\n",
    "# plt.matshow(matrix[row_idx].T[col_idx].T)"
   ]
  },
  {
   "cell_type": "code",
   "execution_count": null,
   "id": "929c1957-dd46-4729-8e8c-0239f5358438",
   "metadata": {},
   "outputs": [],
   "source": [
    "from ipywidgets import interact\n",
    "import ipywidgets as widgets\n",
    "\n",
    "%matplotlib widget\n",
    "\n",
    "def plot_keypoints(\n",
    "    t,\n",
    "    step,\n",
    "    keypoints,\n",
    "    ax,\n",
    "):\n",
    "    def get_color(idx, step):\n",
    "        return (0, 0, 0, idx / (step * 10))\n",
    "    ax.clear()\n",
    "        \n",
    "    lc = collections.LineCollection(list(keypoints[t:(t + step + 1)][..., :2]), lw=2, color=[get_color(idx, step) for idx in range(step + 1)])\n",
    "    ax.add_collection(lc)\n",
    "\n",
    "    ax.plot(*keypoints[t + step].T, \"o-\", c=\"k\", lw=2, ms=4)\n",
    "    \n",
    "    ax.set_xlim(\n",
    "        keypoints[..., 0].min() - 200,\n",
    "        keypoints[..., 0].max() + 200,\n",
    "    )\n",
    "    ax.set_ylim(\n",
    "        keypoints[..., 1].min() - 200,\n",
    "        keypoints[..., 1].max() + 200,\n",
    "    )\n",
    "    ax.set_aspect(\"equal\")\n",
    "    ax.set_xticks([])\n",
    "    ax.set_yticks([])\n",
    "\n",
    "def plot_embedding(\n",
    "    t,\n",
    "    step,\n",
    "    samples_transformed,\n",
    "    ax,\n",
    "):\n",
    "    def get_color(idx, step):\n",
    "        return (0, 0, 0, idx / (step * 3))\n",
    "        \n",
    "    ax.clear()\n",
    "\n",
    "    ax.scatter(\n",
    "        samples_transformed[:, 0],\n",
    "        samples_transformed[:, 1],\n",
    "        s=2,\n",
    "        alpha=0.1,\n",
    "    )\n",
    "    \n",
    "    ax.scatter(\n",
    "        samples_transformed[t:(t + step + 1), 0],\n",
    "        samples_transformed[t:(t + step + 1), 1],\n",
    "        c=[get_color(idx, step) for idx in range(step + 1)],\n",
    "    )\n",
    "\n",
    "    ax.set_aspect(\"equal\")\n",
    "    ax.set_xticks([])\n",
    "    ax.set_yticks([])\n",
    "\n",
    "plt.close(\"all\")\n",
    "\n",
    "fig = plt.figure(layout=\"constrained\")\n",
    "axes = fig.subplots(1, 2)\n",
    "\n",
    "interact(\n",
    "    lambda t: (\n",
    "        plot_keypoints(\n",
    "            t,\n",
    "            60,\n",
    "            keypoints[10000:15000],\n",
    "            axes[0],\n",
    "        ),\n",
    "        plot_embedding(\n",
    "            t,\n",
    "            step,\n",
    "            samples_transformed,\n",
    "            axes[1])\n",
    "    ), \n",
    "    t=widgets.IntSlider(value=0, min=0, max=len(keypoints[10000:15000]) - 60 - 1, layout=widgets.Layout(width=\"800px\"))\n",
    ")"
   ]
  }
 ],
 "metadata": {
  "kernelspec": {
   "display_name": "Python 3 (ipykernel)",
   "language": "python",
   "name": "python3"
  },
  "language_info": {
   "codemirror_mode": {
    "name": "ipython",
    "version": 3
   },
   "file_extension": ".py",
   "mimetype": "text/x-python",
   "name": "python",
   "nbconvert_exporter": "python",
   "pygments_lexer": "ipython3",
   "version": "3.12.4"
  }
 },
 "nbformat": 4,
 "nbformat_minor": 5
}
